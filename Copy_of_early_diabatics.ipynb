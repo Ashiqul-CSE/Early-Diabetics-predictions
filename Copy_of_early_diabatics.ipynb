{
  "nbformat": 4,
  "nbformat_minor": 0,
  "metadata": {
    "colab": {
      "name": "Copy of early diabatics.ipynb",
      "provenance": [],
      "collapsed_sections": [],
      "toc_visible": true
    },
    "kernelspec": {
      "name": "python3",
      "display_name": "Python 3"
    }
  },
  "cells": [
    {
      "cell_type": "code",
      "metadata": {
        "id": "JPpeuRcAXOhF",
        "colab": {
          "base_uri": "https://localhost:8080/",
          "height": 34
        },
        "outputId": "de293fd6-9ec3-4c5e-a33e-374b44956b21"
      },
      "source": [
        "from google.colab import drive\n",
        "drive.mount('/content/gdrive')"
      ],
      "execution_count": null,
      "outputs": [
        {
          "output_type": "stream",
          "text": [
            "Mounted at /content/gdrive\n"
          ],
          "name": "stdout"
        }
      ]
    },
    {
      "cell_type": "code",
      "metadata": {
        "id": "P6DyJMv0Y-QF"
      },
      "source": [
        "import numpy as np\n",
        "import pandas as pd\n",
        "import matplotlib.pyplot as plt\n",
        "import seaborn as sns\n",
        "%matplotlib inline"
      ],
      "execution_count": null,
      "outputs": []
    },
    {
      "cell_type": "code",
      "metadata": {
        "id": "3BtbL_DhZMXR"
      },
      "source": [
        "train = pd.read_csv('gdrive/My Drive/Early Diabetics Prediction/diabetes_data_upload.csv')"
      ],
      "execution_count": null,
      "outputs": []
    },
    {
      "cell_type": "code",
      "metadata": {
        "id": "PYAV_1KZZYhY",
        "colab": {
          "base_uri": "https://localhost:8080/",
          "height": 413
        },
        "outputId": "399ce78d-944f-44b3-d394-0fd6009e4b4e"
      },
      "source": [
        "train.head(10)"
      ],
      "execution_count": null,
      "outputs": [
        {
          "output_type": "execute_result",
          "data": {
            "text/html": [
              "<div>\n",
              "<style scoped>\n",
              "    .dataframe tbody tr th:only-of-type {\n",
              "        vertical-align: middle;\n",
              "    }\n",
              "\n",
              "    .dataframe tbody tr th {\n",
              "        vertical-align: top;\n",
              "    }\n",
              "\n",
              "    .dataframe thead th {\n",
              "        text-align: right;\n",
              "    }\n",
              "</style>\n",
              "<table border=\"1\" class=\"dataframe\">\n",
              "  <thead>\n",
              "    <tr style=\"text-align: right;\">\n",
              "      <th></th>\n",
              "      <th>Age</th>\n",
              "      <th>Gender</th>\n",
              "      <th>Polyuria</th>\n",
              "      <th>Polydipsia</th>\n",
              "      <th>sudden weight loss</th>\n",
              "      <th>weakness</th>\n",
              "      <th>Polyphagia</th>\n",
              "      <th>Genital thrush</th>\n",
              "      <th>visual blurring</th>\n",
              "      <th>Itching</th>\n",
              "      <th>Irritability</th>\n",
              "      <th>delayed healing</th>\n",
              "      <th>partial paresis</th>\n",
              "      <th>muscle stiffness</th>\n",
              "      <th>Alopecia</th>\n",
              "      <th>Obesity</th>\n",
              "      <th>class</th>\n",
              "    </tr>\n",
              "  </thead>\n",
              "  <tbody>\n",
              "    <tr>\n",
              "      <th>0</th>\n",
              "      <td>40</td>\n",
              "      <td>Male</td>\n",
              "      <td>No</td>\n",
              "      <td>Yes</td>\n",
              "      <td>No</td>\n",
              "      <td>Yes</td>\n",
              "      <td>No</td>\n",
              "      <td>No</td>\n",
              "      <td>No</td>\n",
              "      <td>Yes</td>\n",
              "      <td>No</td>\n",
              "      <td>Yes</td>\n",
              "      <td>No</td>\n",
              "      <td>Yes</td>\n",
              "      <td>Yes</td>\n",
              "      <td>Yes</td>\n",
              "      <td>Positive</td>\n",
              "    </tr>\n",
              "    <tr>\n",
              "      <th>1</th>\n",
              "      <td>58</td>\n",
              "      <td>Male</td>\n",
              "      <td>No</td>\n",
              "      <td>No</td>\n",
              "      <td>No</td>\n",
              "      <td>Yes</td>\n",
              "      <td>No</td>\n",
              "      <td>No</td>\n",
              "      <td>Yes</td>\n",
              "      <td>No</td>\n",
              "      <td>No</td>\n",
              "      <td>No</td>\n",
              "      <td>Yes</td>\n",
              "      <td>No</td>\n",
              "      <td>Yes</td>\n",
              "      <td>No</td>\n",
              "      <td>Positive</td>\n",
              "    </tr>\n",
              "    <tr>\n",
              "      <th>2</th>\n",
              "      <td>41</td>\n",
              "      <td>Male</td>\n",
              "      <td>Yes</td>\n",
              "      <td>No</td>\n",
              "      <td>No</td>\n",
              "      <td>Yes</td>\n",
              "      <td>Yes</td>\n",
              "      <td>No</td>\n",
              "      <td>No</td>\n",
              "      <td>Yes</td>\n",
              "      <td>No</td>\n",
              "      <td>Yes</td>\n",
              "      <td>No</td>\n",
              "      <td>Yes</td>\n",
              "      <td>Yes</td>\n",
              "      <td>No</td>\n",
              "      <td>Positive</td>\n",
              "    </tr>\n",
              "    <tr>\n",
              "      <th>3</th>\n",
              "      <td>45</td>\n",
              "      <td>Male</td>\n",
              "      <td>No</td>\n",
              "      <td>No</td>\n",
              "      <td>Yes</td>\n",
              "      <td>Yes</td>\n",
              "      <td>Yes</td>\n",
              "      <td>Yes</td>\n",
              "      <td>No</td>\n",
              "      <td>Yes</td>\n",
              "      <td>No</td>\n",
              "      <td>Yes</td>\n",
              "      <td>No</td>\n",
              "      <td>No</td>\n",
              "      <td>No</td>\n",
              "      <td>No</td>\n",
              "      <td>Positive</td>\n",
              "    </tr>\n",
              "    <tr>\n",
              "      <th>4</th>\n",
              "      <td>60</td>\n",
              "      <td>Male</td>\n",
              "      <td>Yes</td>\n",
              "      <td>Yes</td>\n",
              "      <td>Yes</td>\n",
              "      <td>Yes</td>\n",
              "      <td>Yes</td>\n",
              "      <td>No</td>\n",
              "      <td>Yes</td>\n",
              "      <td>Yes</td>\n",
              "      <td>Yes</td>\n",
              "      <td>Yes</td>\n",
              "      <td>Yes</td>\n",
              "      <td>Yes</td>\n",
              "      <td>Yes</td>\n",
              "      <td>Yes</td>\n",
              "      <td>Positive</td>\n",
              "    </tr>\n",
              "    <tr>\n",
              "      <th>5</th>\n",
              "      <td>55</td>\n",
              "      <td>Male</td>\n",
              "      <td>Yes</td>\n",
              "      <td>Yes</td>\n",
              "      <td>No</td>\n",
              "      <td>Yes</td>\n",
              "      <td>Yes</td>\n",
              "      <td>No</td>\n",
              "      <td>Yes</td>\n",
              "      <td>Yes</td>\n",
              "      <td>No</td>\n",
              "      <td>Yes</td>\n",
              "      <td>No</td>\n",
              "      <td>Yes</td>\n",
              "      <td>Yes</td>\n",
              "      <td>Yes</td>\n",
              "      <td>Positive</td>\n",
              "    </tr>\n",
              "    <tr>\n",
              "      <th>6</th>\n",
              "      <td>57</td>\n",
              "      <td>Male</td>\n",
              "      <td>Yes</td>\n",
              "      <td>Yes</td>\n",
              "      <td>No</td>\n",
              "      <td>Yes</td>\n",
              "      <td>Yes</td>\n",
              "      <td>Yes</td>\n",
              "      <td>No</td>\n",
              "      <td>No</td>\n",
              "      <td>No</td>\n",
              "      <td>Yes</td>\n",
              "      <td>Yes</td>\n",
              "      <td>No</td>\n",
              "      <td>No</td>\n",
              "      <td>No</td>\n",
              "      <td>Positive</td>\n",
              "    </tr>\n",
              "    <tr>\n",
              "      <th>7</th>\n",
              "      <td>66</td>\n",
              "      <td>Male</td>\n",
              "      <td>Yes</td>\n",
              "      <td>Yes</td>\n",
              "      <td>Yes</td>\n",
              "      <td>Yes</td>\n",
              "      <td>No</td>\n",
              "      <td>No</td>\n",
              "      <td>Yes</td>\n",
              "      <td>Yes</td>\n",
              "      <td>Yes</td>\n",
              "      <td>No</td>\n",
              "      <td>Yes</td>\n",
              "      <td>Yes</td>\n",
              "      <td>No</td>\n",
              "      <td>No</td>\n",
              "      <td>Positive</td>\n",
              "    </tr>\n",
              "    <tr>\n",
              "      <th>8</th>\n",
              "      <td>67</td>\n",
              "      <td>Male</td>\n",
              "      <td>Yes</td>\n",
              "      <td>Yes</td>\n",
              "      <td>No</td>\n",
              "      <td>Yes</td>\n",
              "      <td>Yes</td>\n",
              "      <td>Yes</td>\n",
              "      <td>No</td>\n",
              "      <td>Yes</td>\n",
              "      <td>Yes</td>\n",
              "      <td>No</td>\n",
              "      <td>Yes</td>\n",
              "      <td>Yes</td>\n",
              "      <td>No</td>\n",
              "      <td>Yes</td>\n",
              "      <td>Positive</td>\n",
              "    </tr>\n",
              "    <tr>\n",
              "      <th>9</th>\n",
              "      <td>70</td>\n",
              "      <td>Male</td>\n",
              "      <td>No</td>\n",
              "      <td>Yes</td>\n",
              "      <td>Yes</td>\n",
              "      <td>Yes</td>\n",
              "      <td>Yes</td>\n",
              "      <td>No</td>\n",
              "      <td>Yes</td>\n",
              "      <td>Yes</td>\n",
              "      <td>Yes</td>\n",
              "      <td>No</td>\n",
              "      <td>No</td>\n",
              "      <td>No</td>\n",
              "      <td>Yes</td>\n",
              "      <td>No</td>\n",
              "      <td>Positive</td>\n",
              "    </tr>\n",
              "  </tbody>\n",
              "</table>\n",
              "</div>"
            ],
            "text/plain": [
              "   Age Gender Polyuria Polydipsia  ... muscle stiffness Alopecia Obesity     class\n",
              "0   40   Male       No        Yes  ...              Yes      Yes     Yes  Positive\n",
              "1   58   Male       No         No  ...               No      Yes      No  Positive\n",
              "2   41   Male      Yes         No  ...              Yes      Yes      No  Positive\n",
              "3   45   Male       No         No  ...               No       No      No  Positive\n",
              "4   60   Male      Yes        Yes  ...              Yes      Yes     Yes  Positive\n",
              "5   55   Male      Yes        Yes  ...              Yes      Yes     Yes  Positive\n",
              "6   57   Male      Yes        Yes  ...               No       No      No  Positive\n",
              "7   66   Male      Yes        Yes  ...              Yes       No      No  Positive\n",
              "8   67   Male      Yes        Yes  ...              Yes       No     Yes  Positive\n",
              "9   70   Male       No        Yes  ...               No      Yes      No  Positive\n",
              "\n",
              "[10 rows x 17 columns]"
            ]
          },
          "metadata": {
            "tags": []
          },
          "execution_count": 4
        }
      ]
    },
    {
      "cell_type": "code",
      "metadata": {
        "id": "pd-HiS7hZfPb",
        "colab": {
          "base_uri": "https://localhost:8080/",
          "height": 425
        },
        "outputId": "c37ac604-098d-4b2b-c7e9-995f523b50b2"
      },
      "source": [
        "train.info()"
      ],
      "execution_count": null,
      "outputs": [
        {
          "output_type": "stream",
          "text": [
            "<class 'pandas.core.frame.DataFrame'>\n",
            "RangeIndex: 520 entries, 0 to 519\n",
            "Data columns (total 17 columns):\n",
            " #   Column              Non-Null Count  Dtype \n",
            "---  ------              --------------  ----- \n",
            " 0   Age                 520 non-null    int64 \n",
            " 1   Gender              520 non-null    object\n",
            " 2   Polyuria            520 non-null    object\n",
            " 3   Polydipsia          520 non-null    object\n",
            " 4   sudden weight loss  520 non-null    object\n",
            " 5   weakness            520 non-null    object\n",
            " 6   Polyphagia          520 non-null    object\n",
            " 7   Genital thrush      520 non-null    object\n",
            " 8   visual blurring     520 non-null    object\n",
            " 9   Itching             520 non-null    object\n",
            " 10  Irritability        520 non-null    object\n",
            " 11  delayed healing     520 non-null    object\n",
            " 12  partial paresis     520 non-null    object\n",
            " 13  muscle stiffness    520 non-null    object\n",
            " 14  Alopecia            520 non-null    object\n",
            " 15  Obesity             520 non-null    object\n",
            " 16  class               520 non-null    object\n",
            "dtypes: int64(1), object(16)\n",
            "memory usage: 69.2+ KB\n"
          ],
          "name": "stdout"
        }
      ]
    },
    {
      "cell_type": "code",
      "metadata": {
        "id": "iohBd-8wZxJv",
        "colab": {
          "base_uri": "https://localhost:8080/",
          "height": 34
        },
        "outputId": "150db9dd-c7d9-43d3-894e-cd1d9dc7e734"
      },
      "source": [
        "train.shape"
      ],
      "execution_count": null,
      "outputs": [
        {
          "output_type": "execute_result",
          "data": {
            "text/plain": [
              "(520, 17)"
            ]
          },
          "metadata": {
            "tags": []
          },
          "execution_count": 6
        }
      ]
    },
    {
      "cell_type": "code",
      "metadata": {
        "id": "tCsypU1haFqG",
        "colab": {
          "base_uri": "https://localhost:8080/",
          "height": 323
        },
        "outputId": "4a496b10-6f2e-43d1-efbe-26407c56e00b"
      },
      "source": [
        "train.isnull().sum()"
      ],
      "execution_count": null,
      "outputs": [
        {
          "output_type": "execute_result",
          "data": {
            "text/plain": [
              "Age                   0\n",
              "Gender                0\n",
              "Polyuria              0\n",
              "Polydipsia            0\n",
              "sudden weight loss    0\n",
              "weakness              0\n",
              "Polyphagia            0\n",
              "Genital thrush        0\n",
              "visual blurring       0\n",
              "Itching               0\n",
              "Irritability          0\n",
              "delayed healing       0\n",
              "partial paresis       0\n",
              "muscle stiffness      0\n",
              "Alopecia              0\n",
              "Obesity               0\n",
              "class                 0\n",
              "dtype: int64"
            ]
          },
          "metadata": {
            "tags": []
          },
          "execution_count": 7
        }
      ]
    },
    {
      "cell_type": "code",
      "metadata": {
        "id": "YGwT87jea5qG",
        "colab": {
          "base_uri": "https://localhost:8080/",
          "height": 68
        },
        "outputId": "97923add-1610-4791-8ab8-5be7a8ab6d2c"
      },
      "source": [
        "train['class'].value_counts().head()"
      ],
      "execution_count": null,
      "outputs": [
        {
          "output_type": "execute_result",
          "data": {
            "text/plain": [
              "1    320\n",
              "0    200\n",
              "Name: class, dtype: int64"
            ]
          },
          "metadata": {
            "tags": []
          },
          "execution_count": 109
        }
      ]
    },
    {
      "cell_type": "code",
      "metadata": {
        "id": "z4mN8HmWaNVA",
        "colab": {
          "base_uri": "https://localhost:8080/",
          "height": 1000
        },
        "outputId": "dda4295e-6f33-4a01-b417-f46d8a36d20b"
      },
      "source": [
        "for col in train.columns[~(train.columns.isin(['Age']))]:\n",
        "    sns.countplot(train[col])\n",
        "    plt.show()"
      ],
      "execution_count": null,
      "outputs": [
        {
          "output_type": "stream",
          "text": [
            "/usr/local/lib/python3.6/dist-packages/seaborn/_decorators.py:43: FutureWarning: Pass the following variable as a keyword arg: x. From version 0.12, the only valid positional argument will be `data`, and passing other arguments without an explicit keyword will result in an error or misinterpretation.\n",
            "  FutureWarning\n"
          ],
          "name": "stderr"
        },
        {
          "output_type": "display_data",
          "data": {
            "image/png": "[encoded data removed]",
            "text/plain": [
              "<Figure size 432x288 with 1 Axes>"
            ]
          },
          "metadata": {
            "tags": [],
            "needs_background": "light"
          }
        },
        {
          "output_type": "stream",
          "text": [
            "/usr/local/lib/python3.6/dist-packages/seaborn/_decorators.py:43: FutureWarning: Pass the following variable as a keyword arg: x. From version 0.12, the only valid positional argument will be `data`, and passing other arguments without an explicit keyword will result in an error or misinterpretation.\n",
            "  FutureWarning\n"
          ],
          "name": "stderr"
        },
        {
          "output_type": "display_data",
          "data": {
            "image/png": "[encoded data removed]",
            "text/plain": [
              "<Figure size 432x288 with 1 Axes>"
            ]
          },
          "metadata": {
            "tags": [],
            "needs_background": "light"
          }
        },
        {
          "output_type": "stream",
          "text": [
            "/usr/local/lib/python3.6/dist-packages/seaborn/_decorators.py:43: FutureWarning: Pass the following variable as a keyword arg: x. From version 0.12, the only valid positional argument will be `data`, and passing other arguments without an explicit keyword will result in an error or misinterpretation.\n",
            "  FutureWarning\n"
          ],
          "name": "stderr"
        },
        {
          "output_type": "display_data",
          "data": {
            "image/png": "[encoded data removed]",
            "text/plain": [
              "<Figure size 432x288 with 1 Axes>"
            ]
          },
          "metadata": {
            "tags": [],
            "needs_background": "light"
          }
        },
        {
          "output_type": "stream",
          "text": [
            "/usr/local/lib/python3.6/dist-packages/seaborn/_decorators.py:43: FutureWarning: Pass the following variable as a keyword arg: x. From version 0.12, the only valid positional argument will be `data`, and passing other arguments without an explicit keyword will result in an error or misinterpretation.\n",
            "  FutureWarning\n"
          ],
          "name": "stderr"
        },
        {
          "output_type": "display_data",
          "data": {
            "image/png": "[encoded data removed]",
            "text/plain": [
              "<Figure size 432x288 with 1 Axes>"
            ]
          },
          "metadata": {
            "tags": [],
            "needs_background": "light"
          }
        },
        {
          "output_type": "stream",
          "text": [
            "/usr/local/lib/python3.6/dist-packages/seaborn/_decorators.py:43: FutureWarning: Pass the following variable as a keyword arg: x. From version 0.12, the only valid positional argument will be `data`, and passing other arguments without an explicit keyword will result in an error or misinterpretation.\n",
            "  FutureWarning\n"
          ],
          "name": "stderr"
        },
        {
          "output_type": "display_data",
          "data": {
            "image/png": "[encoded data removed]",
            "text/plain": [
              "<Figure size 432x288 with 1 Axes>"
            ]
          },
          "metadata": {
            "tags": [],
            "needs_background": "light"
          }
        },
        {
          "output_type": "stream",
          "text": [
            "/usr/local/lib/python3.6/dist-packages/seaborn/_decorators.py:43: FutureWarning: Pass the following variable as a keyword arg: x. From version 0.12, the only valid positional argument will be `data`, and passing other arguments without an explicit keyword will result in an error or misinterpretation.\n",
            "  FutureWarning\n"
          ],
          "name": "stderr"
        },
        {
          "output_type": "display_data",
          "data": {
            "image/png": "[encoded data removed]",
            "text/plain": [
              "<Figure size 432x288 with 1 Axes>"
            ]
          },
          "metadata": {
            "tags": [],
            "needs_background": "light"
          }
        },
        {
          "output_type": "stream",
          "text": [
            "/usr/local/lib/python3.6/dist-packages/seaborn/_decorators.py:43: FutureWarning: Pass the following variable as a keyword arg: x. From version 0.12, the only valid positional argument will be `data`, and passing other arguments without an explicit keyword will result in an error or misinterpretation.\n",
            "  FutureWarning\n"
          ],
          "name": "stderr"
        },
        {
          "output_type": "display_data",
          "data": {
            "image/png": "[encoded data removed]",
            "text/plain": [
              "<Figure size 432x288 with 1 Axes>"
            ]
          },
          "metadata": {
            "tags": [],
            "needs_background": "light"
          }
        },
        {
          "output_type": "stream",
          "text": [
            "/usr/local/lib/python3.6/dist-packages/seaborn/_decorators.py:43: FutureWarning: Pass the following variable as a keyword arg: x. From version 0.12, the only valid positional argument will be `data`, and passing other arguments without an explicit keyword will result in an error or misinterpretation.\n",
            "  FutureWarning\n"
          ],
          "name": "stderr"
        },
        {
          "output_type": "display_data",
          "data": {
            "image/png": "[encoded data removed]",
            "text/plain": [
              "<Figure size 432x288 with 1 Axes>"
            ]
          },
          "metadata": {
            "tags": [],
            "needs_background": "light"
          }
        },
        {
          "output_type": "stream",
          "text": [
            "/usr/local/lib/python3.6/dist-packages/seaborn/_decorators.py:43: FutureWarning: Pass the following variable as a keyword arg: x. From version 0.12, the only valid positional argument will be `data`, and passing other arguments without an explicit keyword will result in an error or misinterpretation.\n",
            "  FutureWarning\n"
          ],
          "name": "stderr"
        },
        {
          "output_type": "display_data",
          "data": {
            "image/png": "[encoded data removed]",
            "text/plain": [
              "<Figure size 432x288 with 1 Axes>"
            ]
          },
          "metadata": {
            "tags": [],
            "needs_background": "light"
          }
        },
        {
          "output_type": "stream",
          "text": [
            "/usr/local/lib/python3.6/dist-packages/seaborn/_decorators.py:43: FutureWarning: Pass the following variable as a keyword arg: x. From version 0.12, the only valid positional argument will be `data`, and passing other arguments without an explicit keyword will result in an error or misinterpretation.\n",
            "  FutureWarning\n"
          ],
          "name": "stderr"
        },
        {
          "output_type": "display_data",
          "data": {
            "image/png": "[encoded data removed]",
            "text/plain": [
              "<Figure size 432x288 with 1 Axes>"
            ]
          },
          "metadata": {
            "tags": [],
            "needs_background": "light"
          }
        },
        {
          "output_type": "stream",
          "text": [
            "/usr/local/lib/python3.6/dist-packages/seaborn/_decorators.py:43: FutureWarning: Pass the following variable as a keyword arg: x. From version 0.12, the only valid positional argument will be `data`, and passing other arguments without an explicit keyword will result in an error or misinterpretation.\n",
            "  FutureWarning\n"
          ],
          "name": "stderr"
        },
        {
          "output_type": "display_data",
          "data": {
            "image/png": "[encoded data removed]",
            "text/plain": [
              "<Figure size 432x288 with 1 Axes>"
            ]
          },
          "metadata": {
            "tags": [],
            "needs_background": "light"
          }
        },
        {
          "output_type": "stream",
          "text": [
            "/usr/local/lib/python3.6/dist-packages/seaborn/_decorators.py:43: FutureWarning: Pass the following variable as a keyword arg: x. From version 0.12, the only valid positional argument will be `data`, and passing other arguments without an explicit keyword will result in an error or misinterpretation.\n",
            "  FutureWarning\n"
          ],
          "name": "stderr"
        },
        {
          "output_type": "display_data",
          "data": {
            "image/png": "[encoded data removed]",
            "text/plain": [
              "<Figure size 432x288 with 1 Axes>"
            ]
          },
          "metadata": {
            "tags": [],
            "needs_background": "light"
          }
        },
        {
          "output_type": "stream",
          "text": [
            "/usr/local/lib/python3.6/dist-packages/seaborn/_decorators.py:43: FutureWarning: Pass the following variable as a keyword arg: x. From version 0.12, the only valid positional argument will be `data`, and passing other arguments without an explicit keyword will result in an error or misinterpretation.\n",
            "  FutureWarning\n"
          ],
          "name": "stderr"
        },
        {
          "output_type": "display_data",
          "data": {
            "image/png": "[encoded data removed]",
            "text/plain": [
              "<Figure size 432x288 with 1 Axes>"
            ]
          },
          "metadata": {
            "tags": [],
            "needs_background": "light"
          }
        },
        {
          "output_type": "stream",
          "text": [
            "/usr/local/lib/python3.6/dist-packages/seaborn/_decorators.py:43: FutureWarning: Pass the following variable as a keyword arg: x. From version 0.12, the only valid positional argument will be `data`, and passing other arguments without an explicit keyword will result in an error or misinterpretation.\n",
            "  FutureWarning\n"
          ],
          "name": "stderr"
        },
        {
          "output_type": "display_data",
          "data": {
            "image/png": "[encoded data removed]",
            "text/plain": [
              "<Figure size 432x288 with 1 Axes>"
            ]
          },
          "metadata": {
            "tags": [],
            "needs_background": "light"
          }
        },
        {
          "output_type": "stream",
          "text": [
            "/usr/local/lib/python3.6/dist-packages/seaborn/_decorators.py:43: FutureWarning: Pass the following variable as a keyword arg: x. From version 0.12, the only valid positional argument will be `data`, and passing other arguments without an explicit keyword will result in an error or misinterpretation.\n",
            "  FutureWarning\n"
          ],
          "name": "stderr"
        },
        {
          "output_type": "display_data",
          "data": {
            "image/png": "[encoded data removed]",
            "text/plain": [
              "<Figure size 432x288 with 1 Axes>"
            ]
          },
          "metadata": {
            "tags": [],
            "needs_background": "light"
          }
        },
        {
          "output_type": "stream",
          "text": [
            "/usr/local/lib/python3.6/dist-packages/seaborn/_decorators.py:43: FutureWarning: Pass the following variable as a keyword arg: x. From version 0.12, the only valid positional argument will be `data`, and passing other arguments without an explicit keyword will result in an error or misinterpretation.\n",
            "  FutureWarning\n"
          ],
          "name": "stderr"
        },
        {
          "output_type": "display_data",
          "data": {
            "image/png": "[encoded data removed]",
            "text/plain": [
              "<Figure size 432x288 with 1 Axes>"
            ]
          },
          "metadata": {
            "tags": [],
            "needs_background": "light"
          }
        }
      ]
    },
    {
      "cell_type": "code",
      "metadata": {
        "id": "lRC85bjDbt4B",
        "colab": {
          "base_uri": "https://localhost:8080/",
          "height": 333
        },
        "outputId": "9b2f4fa4-5057-4d5c-cbab-313ab6b42c1d"
      },
      "source": [
        "sns.distplot(train.Age)\n",
        "plt.show()"
      ],
      "execution_count": null,
      "outputs": [
        {
          "output_type": "stream",
          "text": [
            "/usr/local/lib/python3.6/dist-packages/seaborn/distributions.py:2551: FutureWarning: `distplot` is a deprecated function and will be removed in a future version. Please adapt your code to use either `displot` (a figure-level function with similar flexibility) or `histplot` (an axes-level function for histograms).\n",
            "  warnings.warn(msg, FutureWarning)\n"
          ],
          "name": "stderr"
        },
        {
          "output_type": "display_data",
          "data": {
            "image/png": "[encoded data removed]",
            "text/plain": [
              "<Figure size 432x288 with 1 Axes>"
            ]
          },
          "metadata": {
            "tags": [],
            "needs_background": "light"
          }
        }
      ]
    },
    {
      "cell_type": "code",
      "metadata": {
        "id": "RdhbFInpcHqW",
        "colab": {
          "base_uri": "https://localhost:8080/",
          "height": 413
        },
        "outputId": "d1987f95-3e27-4b96-f5d0-02cdd52f2797"
      },
      "source": [
        "train.head(10)"
      ],
      "execution_count": null,
      "outputs": [
        {
          "output_type": "execute_result",
          "data": {
            "text/html": [
              "<div>\n",
              "<style scoped>\n",
              "    .dataframe tbody tr th:only-of-type {\n",
              "        vertical-align: middle;\n",
              "    }\n",
              "\n",
              "    .dataframe tbody tr th {\n",
              "        vertical-align: top;\n",
              "    }\n",
              "\n",
              "    .dataframe thead th {\n",
              "        text-align: right;\n",
              "    }\n",
              "</style>\n",
              "<table border=\"1\" class=\"dataframe\">\n",
              "  <thead>\n",
              "    <tr style=\"text-align: right;\">\n",
              "      <th></th>\n",
              "      <th>Age</th>\n",
              "      <th>Gender</th>\n",
              "      <th>Polyuria</th>\n",
              "      <th>Polydipsia</th>\n",
              "      <th>sudden weight loss</th>\n",
              "      <th>weakness</th>\n",
              "      <th>Polyphagia</th>\n",
              "      <th>Genital thrush</th>\n",
              "      <th>visual blurring</th>\n",
              "      <th>Itching</th>\n",
              "      <th>Irritability</th>\n",
              "      <th>delayed healing</th>\n",
              "      <th>partial paresis</th>\n",
              "      <th>muscle stiffness</th>\n",
              "      <th>Alopecia</th>\n",
              "      <th>Obesity</th>\n",
              "      <th>class</th>\n",
              "    </tr>\n",
              "  </thead>\n",
              "  <tbody>\n",
              "    <tr>\n",
              "      <th>0</th>\n",
              "      <td>40</td>\n",
              "      <td>Male</td>\n",
              "      <td>No</td>\n",
              "      <td>Yes</td>\n",
              "      <td>No</td>\n",
              "      <td>Yes</td>\n",
              "      <td>No</td>\n",
              "      <td>No</td>\n",
              "      <td>No</td>\n",
              "      <td>Yes</td>\n",
              "      <td>No</td>\n",
              "      <td>Yes</td>\n",
              "      <td>No</td>\n",
              "      <td>Yes</td>\n",
              "      <td>Yes</td>\n",
              "      <td>Yes</td>\n",
              "      <td>Positive</td>\n",
              "    </tr>\n",
              "    <tr>\n",
              "      <th>1</th>\n",
              "      <td>58</td>\n",
              "      <td>Male</td>\n",
              "      <td>No</td>\n",
              "      <td>No</td>\n",
              "      <td>No</td>\n",
              "      <td>Yes</td>\n",
              "      <td>No</td>\n",
              "      <td>No</td>\n",
              "      <td>Yes</td>\n",
              "      <td>No</td>\n",
              "      <td>No</td>\n",
              "      <td>No</td>\n",
              "      <td>Yes</td>\n",
              "      <td>No</td>\n",
              "      <td>Yes</td>\n",
              "      <td>No</td>\n",
              "      <td>Positive</td>\n",
              "    </tr>\n",
              "    <tr>\n",
              "      <th>2</th>\n",
              "      <td>41</td>\n",
              "      <td>Male</td>\n",
              "      <td>Yes</td>\n",
              "      <td>No</td>\n",
              "      <td>No</td>\n",
              "      <td>Yes</td>\n",
              "      <td>Yes</td>\n",
              "      <td>No</td>\n",
              "      <td>No</td>\n",
              "      <td>Yes</td>\n",
              "      <td>No</td>\n",
              "      <td>Yes</td>\n",
              "      <td>No</td>\n",
              "      <td>Yes</td>\n",
              "      <td>Yes</td>\n",
              "      <td>No</td>\n",
              "      <td>Positive</td>\n",
              "    </tr>\n",
              "    <tr>\n",
              "      <th>3</th>\n",
              "      <td>45</td>\n",
              "      <td>Male</td>\n",
              "      <td>No</td>\n",
              "      <td>No</td>\n",
              "      <td>Yes</td>\n",
              "      <td>Yes</td>\n",
              "      <td>Yes</td>\n",
              "      <td>Yes</td>\n",
              "      <td>No</td>\n",
              "      <td>Yes</td>\n",
              "      <td>No</td>\n",
              "      <td>Yes</td>\n",
              "      <td>No</td>\n",
              "      <td>No</td>\n",
              "      <td>No</td>\n",
              "      <td>No</td>\n",
              "      <td>Positive</td>\n",
              "    </tr>\n",
              "    <tr>\n",
              "      <th>4</th>\n",
              "      <td>60</td>\n",
              "      <td>Male</td>\n",
              "      <td>Yes</td>\n",
              "      <td>Yes</td>\n",
              "      <td>Yes</td>\n",
              "      <td>Yes</td>\n",
              "      <td>Yes</td>\n",
              "      <td>No</td>\n",
              "      <td>Yes</td>\n",
              "      <td>Yes</td>\n",
              "      <td>Yes</td>\n",
              "      <td>Yes</td>\n",
              "      <td>Yes</td>\n",
              "      <td>Yes</td>\n",
              "      <td>Yes</td>\n",
              "      <td>Yes</td>\n",
              "      <td>Positive</td>\n",
              "    </tr>\n",
              "    <tr>\n",
              "      <th>5</th>\n",
              "      <td>55</td>\n",
              "      <td>Male</td>\n",
              "      <td>Yes</td>\n",
              "      <td>Yes</td>\n",
              "      <td>No</td>\n",
              "      <td>Yes</td>\n",
              "      <td>Yes</td>\n",
              "      <td>No</td>\n",
              "      <td>Yes</td>\n",
              "      <td>Yes</td>\n",
              "      <td>No</td>\n",
              "      <td>Yes</td>\n",
              "      <td>No</td>\n",
              "      <td>Yes</td>\n",
              "      <td>Yes</td>\n",
              "      <td>Yes</td>\n",
              "      <td>Positive</td>\n",
              "    </tr>\n",
              "    <tr>\n",
              "      <th>6</th>\n",
              "      <td>57</td>\n",
              "      <td>Male</td>\n",
              "      <td>Yes</td>\n",
              "      <td>Yes</td>\n",
              "      <td>No</td>\n",
              "      <td>Yes</td>\n",
              "      <td>Yes</td>\n",
              "      <td>Yes</td>\n",
              "      <td>No</td>\n",
              "      <td>No</td>\n",
              "      <td>No</td>\n",
              "      <td>Yes</td>\n",
              "      <td>Yes</td>\n",
              "      <td>No</td>\n",
              "      <td>No</td>\n",
              "      <td>No</td>\n",
              "      <td>Positive</td>\n",
              "    </tr>\n",
              "    <tr>\n",
              "      <th>7</th>\n",
              "      <td>66</td>\n",
              "      <td>Male</td>\n",
              "      <td>Yes</td>\n",
              "      <td>Yes</td>\n",
              "      <td>Yes</td>\n",
              "      <td>Yes</td>\n",
              "      <td>No</td>\n",
              "      <td>No</td>\n",
              "      <td>Yes</td>\n",
              "      <td>Yes</td>\n",
              "      <td>Yes</td>\n",
              "      <td>No</td>\n",
              "      <td>Yes</td>\n",
              "      <td>Yes</td>\n",
              "      <td>No</td>\n",
              "      <td>No</td>\n",
              "      <td>Positive</td>\n",
              "    </tr>\n",
              "    <tr>\n",
              "      <th>8</th>\n",
              "      <td>67</td>\n",
              "      <td>Male</td>\n",
              "      <td>Yes</td>\n",
              "      <td>Yes</td>\n",
              "      <td>No</td>\n",
              "      <td>Yes</td>\n",
              "      <td>Yes</td>\n",
              "      <td>Yes</td>\n",
              "      <td>No</td>\n",
              "      <td>Yes</td>\n",
              "      <td>Yes</td>\n",
              "      <td>No</td>\n",
              "      <td>Yes</td>\n",
              "      <td>Yes</td>\n",
              "      <td>No</td>\n",
              "      <td>Yes</td>\n",
              "      <td>Positive</td>\n",
              "    </tr>\n",
              "    <tr>\n",
              "      <th>9</th>\n",
              "      <td>70</td>\n",
              "      <td>Male</td>\n",
              "      <td>No</td>\n",
              "      <td>Yes</td>\n",
              "      <td>Yes</td>\n",
              "      <td>Yes</td>\n",
              "      <td>Yes</td>\n",
              "      <td>No</td>\n",
              "      <td>Yes</td>\n",
              "      <td>Yes</td>\n",
              "      <td>Yes</td>\n",
              "      <td>No</td>\n",
              "      <td>No</td>\n",
              "      <td>No</td>\n",
              "      <td>Yes</td>\n",
              "      <td>No</td>\n",
              "      <td>Positive</td>\n",
              "    </tr>\n",
              "  </tbody>\n",
              "</table>\n",
              "</div>"
            ],
            "text/plain": [
              "   Age Gender Polyuria Polydipsia  ... muscle stiffness Alopecia Obesity     class\n",
              "0   40   Male       No        Yes  ...              Yes      Yes     Yes  Positive\n",
              "1   58   Male       No         No  ...               No      Yes      No  Positive\n",
              "2   41   Male      Yes         No  ...              Yes      Yes      No  Positive\n",
              "3   45   Male       No         No  ...               No       No      No  Positive\n",
              "4   60   Male      Yes        Yes  ...              Yes      Yes     Yes  Positive\n",
              "5   55   Male      Yes        Yes  ...              Yes      Yes     Yes  Positive\n",
              "6   57   Male      Yes        Yes  ...               No       No      No  Positive\n",
              "7   66   Male      Yes        Yes  ...              Yes       No      No  Positive\n",
              "8   67   Male      Yes        Yes  ...              Yes       No     Yes  Positive\n",
              "9   70   Male       No        Yes  ...               No      Yes      No  Positive\n",
              "\n",
              "[10 rows x 17 columns]"
            ]
          },
          "metadata": {
            "tags": []
          },
          "execution_count": 11
        }
      ]
    },
    {
      "cell_type": "code",
      "metadata": {
        "id": "KYLmnH6AcT3i"
      },
      "source": [
        "from sklearn.preprocessing import LabelEncoder\n",
        "\n",
        "le = LabelEncoder()\n",
        "\n",
        "for col in train.columns[~(train.columns.isin(['Age']))].tolist():\n",
        "    train[col] = le.fit_transform(train[col])"
      ],
      "execution_count": null,
      "outputs": []
    },
    {
      "cell_type": "code",
      "metadata": {
        "id": "7rCOXqIWcaKn",
        "colab": {
          "base_uri": "https://localhost:8080/",
          "height": 413
        },
        "outputId": "dba1cedd-1b19-4354-90ee-255ea2cef248"
      },
      "source": [
        "train.head(10)"
      ],
      "execution_count": null,
      "outputs": [
        {
          "output_type": "execute_result",
          "data": {
            "text/html": [
              "<div>\n",
              "<style scoped>\n",
              "    .dataframe tbody tr th:only-of-type {\n",
              "        vertical-align: middle;\n",
              "    }\n",
              "\n",
              "    .dataframe tbody tr th {\n",
              "        vertical-align: top;\n",
              "    }\n",
              "\n",
              "    .dataframe thead th {\n",
              "        text-align: right;\n",
              "    }\n",
              "</style>\n",
              "<table border=\"1\" class=\"dataframe\">\n",
              "  <thead>\n",
              "    <tr style=\"text-align: right;\">\n",
              "      <th></th>\n",
              "      <th>Age</th>\n",
              "      <th>Gender</th>\n",
              "      <th>Polyuria</th>\n",
              "      <th>Polydipsia</th>\n",
              "      <th>sudden weight loss</th>\n",
              "      <th>weakness</th>\n",
              "      <th>Polyphagia</th>\n",
              "      <th>Genital thrush</th>\n",
              "      <th>visual blurring</th>\n",
              "      <th>Itching</th>\n",
              "      <th>Irritability</th>\n",
              "      <th>delayed healing</th>\n",
              "      <th>partial paresis</th>\n",
              "      <th>muscle stiffness</th>\n",
              "      <th>Alopecia</th>\n",
              "      <th>Obesity</th>\n",
              "      <th>class</th>\n",
              "    </tr>\n",
              "  </thead>\n",
              "  <tbody>\n",
              "    <tr>\n",
              "      <th>0</th>\n",
              "      <td>40</td>\n",
              "      <td>1</td>\n",
              "      <td>0</td>\n",
              "      <td>1</td>\n",
              "      <td>0</td>\n",
              "      <td>1</td>\n",
              "      <td>0</td>\n",
              "      <td>0</td>\n",
              "      <td>0</td>\n",
              "      <td>1</td>\n",
              "      <td>0</td>\n",
              "      <td>1</td>\n",
              "      <td>0</td>\n",
              "      <td>1</td>\n",
              "      <td>1</td>\n",
              "      <td>1</td>\n",
              "      <td>1</td>\n",
              "    </tr>\n",
              "    <tr>\n",
              "      <th>1</th>\n",
              "      <td>58</td>\n",
              "      <td>1</td>\n",
              "      <td>0</td>\n",
              "      <td>0</td>\n",
              "      <td>0</td>\n",
              "      <td>1</td>\n",
              "      <td>0</td>\n",
              "      <td>0</td>\n",
              "      <td>1</td>\n",
              "      <td>0</td>\n",
              "      <td>0</td>\n",
              "      <td>0</td>\n",
              "      <td>1</td>\n",
              "      <td>0</td>\n",
              "      <td>1</td>\n",
              "      <td>0</td>\n",
              "      <td>1</td>\n",
              "    </tr>\n",
              "    <tr>\n",
              "      <th>2</th>\n",
              "      <td>41</td>\n",
              "      <td>1</td>\n",
              "      <td>1</td>\n",
              "      <td>0</td>\n",
              "      <td>0</td>\n",
              "      <td>1</td>\n",
              "      <td>1</td>\n",
              "      <td>0</td>\n",
              "      <td>0</td>\n",
              "      <td>1</td>\n",
              "      <td>0</td>\n",
              "      <td>1</td>\n",
              "      <td>0</td>\n",
              "      <td>1</td>\n",
              "      <td>1</td>\n",
              "      <td>0</td>\n",
              "      <td>1</td>\n",
              "    </tr>\n",
              "    <tr>\n",
              "      <th>3</th>\n",
              "      <td>45</td>\n",
              "      <td>1</td>\n",
              "      <td>0</td>\n",
              "      <td>0</td>\n",
              "      <td>1</td>\n",
              "      <td>1</td>\n",
              "      <td>1</td>\n",
              "      <td>1</td>\n",
              "      <td>0</td>\n",
              "      <td>1</td>\n",
              "      <td>0</td>\n",
              "      <td>1</td>\n",
              "      <td>0</td>\n",
              "      <td>0</td>\n",
              "      <td>0</td>\n",
              "      <td>0</td>\n",
              "      <td>1</td>\n",
              "    </tr>\n",
              "    <tr>\n",
              "      <th>4</th>\n",
              "      <td>60</td>\n",
              "      <td>1</td>\n",
              "      <td>1</td>\n",
              "      <td>1</td>\n",
              "      <td>1</td>\n",
              "      <td>1</td>\n",
              "      <td>1</td>\n",
              "      <td>0</td>\n",
              "      <td>1</td>\n",
              "      <td>1</td>\n",
              "      <td>1</td>\n",
              "      <td>1</td>\n",
              "      <td>1</td>\n",
              "      <td>1</td>\n",
              "      <td>1</td>\n",
              "      <td>1</td>\n",
              "      <td>1</td>\n",
              "    </tr>\n",
              "    <tr>\n",
              "      <th>5</th>\n",
              "      <td>55</td>\n",
              "      <td>1</td>\n",
              "      <td>1</td>\n",
              "      <td>1</td>\n",
              "      <td>0</td>\n",
              "      <td>1</td>\n",
              "      <td>1</td>\n",
              "      <td>0</td>\n",
              "      <td>1</td>\n",
              "      <td>1</td>\n",
              "      <td>0</td>\n",
              "      <td>1</td>\n",
              "      <td>0</td>\n",
              "      <td>1</td>\n",
              "      <td>1</td>\n",
              "      <td>1</td>\n",
              "      <td>1</td>\n",
              "    </tr>\n",
              "    <tr>\n",
              "      <th>6</th>\n",
              "      <td>57</td>\n",
              "      <td>1</td>\n",
              "      <td>1</td>\n",
              "      <td>1</td>\n",
              "      <td>0</td>\n",
              "      <td>1</td>\n",
              "      <td>1</td>\n",
              "      <td>1</td>\n",
              "      <td>0</td>\n",
              "      <td>0</td>\n",
              "      <td>0</td>\n",
              "      <td>1</td>\n",
              "      <td>1</td>\n",
              "      <td>0</td>\n",
              "      <td>0</td>\n",
              "      <td>0</td>\n",
              "      <td>1</td>\n",
              "    </tr>\n",
              "    <tr>\n",
              "      <th>7</th>\n",
              "      <td>66</td>\n",
              "      <td>1</td>\n",
              "      <td>1</td>\n",
              "      <td>1</td>\n",
              "      <td>1</td>\n",
              "      <td>1</td>\n",
              "      <td>0</td>\n",
              "      <td>0</td>\n",
              "      <td>1</td>\n",
              "      <td>1</td>\n",
              "      <td>1</td>\n",
              "      <td>0</td>\n",
              "      <td>1</td>\n",
              "      <td>1</td>\n",
              "      <td>0</td>\n",
              "      <td>0</td>\n",
              "      <td>1</td>\n",
              "    </tr>\n",
              "    <tr>\n",
              "      <th>8</th>\n",
              "      <td>67</td>\n",
              "      <td>1</td>\n",
              "      <td>1</td>\n",
              "      <td>1</td>\n",
              "      <td>0</td>\n",
              "      <td>1</td>\n",
              "      <td>1</td>\n",
              "      <td>1</td>\n",
              "      <td>0</td>\n",
              "      <td>1</td>\n",
              "      <td>1</td>\n",
              "      <td>0</td>\n",
              "      <td>1</td>\n",
              "      <td>1</td>\n",
              "      <td>0</td>\n",
              "      <td>1</td>\n",
              "      <td>1</td>\n",
              "    </tr>\n",
              "    <tr>\n",
              "      <th>9</th>\n",
              "      <td>70</td>\n",
              "      <td>1</td>\n",
              "      <td>0</td>\n",
              "      <td>1</td>\n",
              "      <td>1</td>\n",
              "      <td>1</td>\n",
              "      <td>1</td>\n",
              "      <td>0</td>\n",
              "      <td>1</td>\n",
              "      <td>1</td>\n",
              "      <td>1</td>\n",
              "      <td>0</td>\n",
              "      <td>0</td>\n",
              "      <td>0</td>\n",
              "      <td>1</td>\n",
              "      <td>0</td>\n",
              "      <td>1</td>\n",
              "    </tr>\n",
              "  </tbody>\n",
              "</table>\n",
              "</div>"
            ],
            "text/plain": [
              "   Age  Gender  Polyuria  ...  Alopecia  Obesity  class\n",
              "0   40       1         0  ...         1        1      1\n",
              "1   58       1         0  ...         1        0      1\n",
              "2   41       1         1  ...         1        0      1\n",
              "3   45       1         0  ...         0        0      1\n",
              "4   60       1         1  ...         1        1      1\n",
              "5   55       1         1  ...         1        1      1\n",
              "6   57       1         1  ...         0        0      1\n",
              "7   66       1         1  ...         0        0      1\n",
              "8   67       1         1  ...         0        1      1\n",
              "9   70       1         0  ...         1        0      1\n",
              "\n",
              "[10 rows x 17 columns]"
            ]
          },
          "metadata": {
            "tags": []
          },
          "execution_count": 13
        }
      ]
    },
    {
      "cell_type": "code",
      "metadata": {
        "id": "LQzDi8EKco1e"
      },
      "source": [
        "X = train.drop('class',axis=1)\n",
        "Y = train['class']"
      ],
      "execution_count": null,
      "outputs": []
    },
    {
      "cell_type": "code",
      "metadata": {
        "id": "aPKRtAqKdJio"
      },
      "source": [
        "\n",
        "from sklearn.model_selection import train_test_split\n",
        "\n",
        "X_train, X_test, Y_train, Y_test = train_test_split(X, Y, test_size=0.25, random_state=1)"
      ],
      "execution_count": null,
      "outputs": []
    },
    {
      "cell_type": "code",
      "metadata": {
        "id": "8Qdsp0sMFon2",
        "colab": {
          "base_uri": "https://localhost:8080/",
          "height": 68
        },
        "outputId": "1e81dca7-f2bd-437b-abad-b7001023c51a"
      },
      "source": [
        "Y_test.value_counts().head()"
      ],
      "execution_count": null,
      "outputs": [
        {
          "output_type": "execute_result",
          "data": {
            "text/plain": [
              "1    85\n",
              "0    45\n",
              "Name: class, dtype: int64"
            ]
          },
          "metadata": {
            "tags": []
          },
          "execution_count": 118
        }
      ]
    },
    {
      "cell_type": "code",
      "metadata": {
        "id": "tKRsvYNMMcGr",
        "colab": {
          "base_uri": "https://localhost:8080/",
          "height": 68
        },
        "outputId": "b5a26b93-9276-4f82-c543-7393998315b2"
      },
      "source": [
        "Y_train.value_counts().head()"
      ],
      "execution_count": null,
      "outputs": [
        {
          "output_type": "execute_result",
          "data": {
            "text/plain": [
              "1    235\n",
              "0    155\n",
              "Name: class, dtype: int64"
            ]
          },
          "metadata": {
            "tags": []
          },
          "execution_count": 120
        }
      ]
    },
    {
      "cell_type": "markdown",
      "metadata": {
        "id": "Y4ELLQ_FkASC"
      },
      "source": [
        "# ***Moddel (LogisticRegression)***"
      ]
    },
    {
      "cell_type": "code",
      "metadata": {
        "id": "oXTHrpEJdixw",
        "colab": {
          "base_uri": "https://localhost:8080/",
          "height": 102
        },
        "outputId": "0c0dfe75-a588-45af-f6bd-ec173244407a"
      },
      "source": [
        "from sklearn.metrics import roc_auc_score, roc_curve\n",
        "from sklearn.linear_model import LogisticRegression\n",
        "\n",
        "log_reg = LogisticRegression(solver='liblinear', fit_intercept=True, random_state=1)\n",
        "\n",
        "log_reg.fit(X_train, Y_train)"
      ],
      "execution_count": null,
      "outputs": [
        {
          "output_type": "execute_result",
          "data": {
            "text/plain": [
              "LogisticRegression(C=1.0, class_weight=None, dual=False, fit_intercept=True,\n",
              "                   intercept_scaling=1, l1_ratio=None, max_iter=100,\n",
              "                   multi_class='auto', n_jobs=None, penalty='l2',\n",
              "                   random_state=1, solver='liblinear', tol=0.0001, verbose=0,\n",
              "                   warm_start=False)"
            ]
          },
          "metadata": {
            "tags": []
          },
          "execution_count": 16
        }
      ]
    },
    {
      "cell_type": "markdown",
      "metadata": {
        "id": "os7mxfLrw3OI"
      },
      "source": [
        "hyperpermeter tuning"
      ]
    },
    {
      "cell_type": "code",
      "metadata": {
        "id": "zHG5Ek7nw1Bs",
        "colab": {
          "base_uri": "https://localhost:8080/",
          "height": 136
        },
        "outputId": "a66e1361-3776-4b4d-cdc9-1af230ffe3f9"
      },
      "source": [
        "\n",
        "from sklearn.model_selection import GridSearchCV \n",
        "penalty = ['l1', 'l2'] \n",
        "C = [0.0001, 0.001, 0.01, 0.1, 1, 10, 100, 1000] \n",
        "class_weight = [{1:0.5, 0:0.5}, {1:0.4, 0:0.6}, {1:0.6, 0:0.4}, {1:0.7, 0:0.3}]\n",
        "solver = ['liblinear', 'saga'] \n",
        "param_grid = dict(penalty=penalty, \n",
        "C=C, \n",
        "class_weight=class_weight, \n",
        "solver=solver) \n",
        "logistic = LogisticRegression() \n",
        "grid = GridSearchCV(estimator=logistic, \n",
        "param_grid=param_grid, \n",
        "scoring='roc_auc', \n",
        "verbose=1, \n",
        "n_jobs=-1) \n",
        "grid_result = grid.fit(X_train, Y_train) \n",
        "print('Best parameters found:\\n', grid_result.best_params_)\n",
        "print('Best Score: ', grid_result.best_score_) "
      ],
      "execution_count": null,
      "outputs": [
        {
          "output_type": "stream",
          "text": [
            "Fitting 5 folds for each of 128 candidates, totalling 640 fits\n"
          ],
          "name": "stdout"
        },
        {
          "output_type": "stream",
          "text": [
            "[Parallel(n_jobs=-1)]: Using backend LokyBackend with 2 concurrent workers.\n",
            "[Parallel(n_jobs=-1)]: Done 330 tasks      | elapsed:    3.6s\n"
          ],
          "name": "stderr"
        },
        {
          "output_type": "stream",
          "text": [
            "Best parameters found:\n",
            " {'C': 100, 'class_weight': {1: 0.7, 0: 0.3}, 'penalty': 'l1', 'solver': 'liblinear'}\n",
            "Best Score:  0.97035003431709\n"
          ],
          "name": "stdout"
        },
        {
          "output_type": "stream",
          "text": [
            "[Parallel(n_jobs=-1)]: Done 640 out of 640 | elapsed:    6.1s finished\n"
          ],
          "name": "stderr"
        }
      ]
    },
    {
      "cell_type": "code",
      "metadata": {
        "id": "7W1Mf_t1gi6q"
      },
      "source": [
        "Y_prob_train = log_reg.predict_proba(X_train)[:,1]\n",
        "Y_pred_train = log_reg.predict(X_train)"
      ],
      "execution_count": null,
      "outputs": []
    },
    {
      "cell_type": "code",
      "metadata": {
        "id": "dmPWxQ1PiKhs"
      },
      "source": [
        "Y_prob = log_reg.predict_proba(X_test)[:,1]\n",
        "Y_pred = log_reg.predict(X_test)"
      ],
      "execution_count": null,
      "outputs": []
    },
    {
      "cell_type": "code",
      "metadata": {
        "id": "_zmKUZGTgpzN",
        "colab": {
          "base_uri": "https://localhost:8080/",
          "height": 34
        },
        "outputId": "c0f32d95-05a0-4af0-ff4e-6304be61bfa0"
      },
      "source": [
        "from sklearn.metrics import confusion_matrix, accuracy_score, classification_report\n",
        "\n",
        "print('Accuracy for test: ',accuracy_score(Y_test,Y_pred))"
      ],
      "execution_count": null,
      "outputs": [
        {
          "output_type": "stream",
          "text": [
            "Accuracy for test:  0.9153846153846154\n"
          ],
          "name": "stdout"
        }
      ]
    },
    {
      "cell_type": "code",
      "metadata": {
        "id": "5ep28h52jgbo",
        "colab": {
          "base_uri": "https://localhost:8080/",
          "height": 85
        },
        "outputId": "0c55ff7f-887c-467e-f84b-3ca72bc0120a"
      },
      "source": [
        "print('Confussion matrix - Train: ','\\n',confusion_matrix(Y_train,Y_pred_train))\n",
        "print('Overall accuracy - Train: ',accuracy_score(Y_train,Y_pred_train))"
      ],
      "execution_count": null,
      "outputs": [
        {
          "output_type": "stream",
          "text": [
            "Confussion matrix - Train:  \n",
            " [[147   8]\n",
            " [ 20 215]]\n",
            "Overall accuracy - Train:  0.9282051282051282\n"
          ],
          "name": "stdout"
        }
      ]
    },
    {
      "cell_type": "code",
      "metadata": {
        "id": "iM6GWMnsj0z8",
        "colab": {
          "base_uri": "https://localhost:8080/",
          "height": 85
        },
        "outputId": "b08e33ce-d5a1-4e36-ca62-16da0331ae50"
      },
      "source": [
        "print('Confussion matrix - Test: ','\\n',confusion_matrix(Y_test,Y_pred))\n",
        "print('Overall accuracy - Test: ',accuracy_score(Y_test,Y_pred))"
      ],
      "execution_count": null,
      "outputs": [
        {
          "output_type": "stream",
          "text": [
            "Confussion matrix - Test:  \n",
            " [[41  4]\n",
            " [ 7 78]]\n",
            "Overall accuracy - Test:  0.9153846153846154\n"
          ],
          "name": "stdout"
        }
      ]
    },
    {
      "cell_type": "code",
      "metadata": {
        "id": "hdS7hjukkwpC",
        "colab": {
          "base_uri": "https://localhost:8080/",
          "height": 170
        },
        "outputId": "9891a4a7-62c1-4128-b1b1-2a04018844d9"
      },
      "source": [
        "print(classification_report(Y_train,Y_pred_train))"
      ],
      "execution_count": null,
      "outputs": [
        {
          "output_type": "stream",
          "text": [
            "              precision    recall  f1-score   support\n",
            "\n",
            "           0       0.88      0.95      0.91       155\n",
            "           1       0.96      0.91      0.94       235\n",
            "\n",
            "    accuracy                           0.93       390\n",
            "   macro avg       0.92      0.93      0.93       390\n",
            "weighted avg       0.93      0.93      0.93       390\n",
            "\n"
          ],
          "name": "stdout"
        }
      ]
    },
    {
      "cell_type": "code",
      "metadata": {
        "id": "ZhgS-lcalSc_",
        "colab": {
          "base_uri": "https://localhost:8080/",
          "height": 170
        },
        "outputId": "54ef42c6-a3d8-4961-b028-e6909cb501ac"
      },
      "source": [
        "print(classification_report(Y_test,Y_pred))"
      ],
      "execution_count": null,
      "outputs": [
        {
          "output_type": "stream",
          "text": [
            "              precision    recall  f1-score   support\n",
            "\n",
            "           0       0.85      0.91      0.88        45\n",
            "           1       0.95      0.92      0.93        85\n",
            "\n",
            "    accuracy                           0.92       130\n",
            "   macro avg       0.90      0.91      0.91       130\n",
            "weighted avg       0.92      0.92      0.92       130\n",
            "\n"
          ],
          "name": "stdout"
        }
      ]
    },
    {
      "cell_type": "code",
      "metadata": {
        "id": "FhoCUOTBU5QU",
        "colab": {
          "base_uri": "https://localhost:8080/",
          "height": 312
        },
        "outputId": "cfdab1c8-f905-4b33-98d6-4bc222aaebfe"
      },
      "source": [
        "print('Test AUC value: ', roc_auc_score(Y_test, Y_prob)) #for test data\n",
        "\n",
        "fpr, tpr, thresholds = roc_curve(Y_test, Y_prob)\n",
        "\n",
        "plt.plot(fpr, tpr)\n",
        "plt.plot(fpr, fpr, 'g-')\n",
        "plt.xlabel('FPR')\n",
        "plt.ylabel('TPR')\n",
        "plt.title('ROC Curve of Test data')\n",
        "plt.show()"
      ],
      "execution_count": null,
      "outputs": [
        {
          "output_type": "stream",
          "text": [
            "Test AUC value:  0.9728104575163399\n"
          ],
          "name": "stdout"
        },
        {
          "output_type": "display_data",
          "data": {
            "image/png": "[encoded data removed]",
            "text/plain": [
              "<Figure size 432x288 with 1 Axes>"
            ]
          },
          "metadata": {
            "tags": [],
            "needs_background": "light"
          }
        }
      ]
    },
    {
      "cell_type": "code",
      "metadata": {
        "id": "GfaN8KGSs2hB"
      },
      "source": [
        ""
      ],
      "execution_count": null,
      "outputs": []
    },
    {
      "cell_type": "markdown",
      "metadata": {
        "id": "eg8s38ZKkPe_"
      },
      "source": [
        "# ***Model(RandomForestClassifier)***"
      ]
    },
    {
      "cell_type": "code",
      "metadata": {
        "id": "KGRPJamXdou0",
        "colab": {
          "base_uri": "https://localhost:8080/",
          "height": 153
        },
        "outputId": "e3cd63e7-f01b-4262-b362-03ed8408985b"
      },
      "source": [
        "from sklearn.ensemble import RandomForestClassifier\n",
        "rfc=RandomForestClassifier(n_estimators=100)\n",
        "\n",
        "rfc.fit(X_train, Y_train)"
      ],
      "execution_count": null,
      "outputs": [
        {
          "output_type": "execute_result",
          "data": {
            "text/plain": [
              "RandomForestClassifier(bootstrap=True, ccp_alpha=0.0, class_weight=None,\n",
              "                       criterion='gini', max_depth=None, max_features='auto',\n",
              "                       max_leaf_nodes=None, max_samples=None,\n",
              "                       min_impurity_decrease=0.0, min_impurity_split=None,\n",
              "                       min_samples_leaf=1, min_samples_split=2,\n",
              "                       min_weight_fraction_leaf=0.0, n_estimators=100,\n",
              "                       n_jobs=None, oob_score=False, random_state=None,\n",
              "                       verbose=0, warm_start=False)"
            ]
          },
          "metadata": {
            "tags": []
          },
          "execution_count": 26
        }
      ]
    },
    {
      "cell_type": "markdown",
      "metadata": {
        "id": "FyeK21j6wdf_"
      },
      "source": [
        "hyperperametar tuning"
      ]
    },
    {
      "cell_type": "code",
      "metadata": {
        "id": "2rtDuHVAwcTq",
        "colab": {
          "base_uri": "https://localhost:8080/",
          "height": 122
        },
        "outputId": "1b5ec57d-6f21-4437-e3eb-8fe0eb15c0ea"
      },
      "source": [
        "\n",
        "from sklearn.model_selection import RandomizedSearchCV\n",
        "from scipy.stats import randint as sp_randint\n",
        "param_dist = {\"max_depth\": [3, None],\n",
        "              \"max_features\": sp_randint(1, X_train.shape[1]),\n",
        "              \"min_samples_split\": sp_randint(2, 11),\n",
        "              \"bootstrap\": [True, False],\n",
        "              \"n_estimators\": sp_randint(100, 500)}\n",
        "              \n",
        "random_search = RandomizedSearchCV(rfc, param_distributions=param_dist,\n",
        "                                   n_iter=10, cv=5, iid=False, random_state=42)\n",
        "random_search.fit(X_train, Y_train)\n",
        "print('Best parameters found:\\n', random_search.best_params_)\n",
        "print('Best Score: ', random_search.best_score_) "
      ],
      "execution_count": null,
      "outputs": [
        {
          "output_type": "stream",
          "text": [
            "/usr/local/lib/python3.6/dist-packages/sklearn/model_selection/_search.py:823: FutureWarning: The parameter 'iid' is deprecated in 0.22 and will be removed in 0.24.\n",
            "  \"removed in 0.24.\", FutureWarning\n"
          ],
          "name": "stderr"
        },
        {
          "output_type": "stream",
          "text": [
            "Best parameters found:\n",
            " {'bootstrap': False, 'max_depth': None, 'max_features': 3, 'min_samples_split': 7, 'n_estimators': 408}\n",
            "Best Score:  0.9717948717948719\n"
          ],
          "name": "stdout"
        }
      ]
    },
    {
      "cell_type": "code",
      "metadata": {
        "id": "VsH65lO2iWuX"
      },
      "source": [
        "Y_prob_train = rfc.predict_proba(X_train)[:,1]\n",
        "Y_pred_train = rfc.predict(X_train)\n",
        "Y_prob = rfc.predict_proba(X_test)[:,1]\n",
        "Y_pred = rfc.predict(X_test)"
      ],
      "execution_count": null,
      "outputs": []
    },
    {
      "cell_type": "code",
      "metadata": {
        "id": "iTNMXWOiirod",
        "colab": {
          "base_uri": "https://localhost:8080/",
          "height": 34
        },
        "outputId": "7132e5d9-f4e0-4aa1-e801-9f51d597760d"
      },
      "source": [
        "from sklearn.metrics import confusion_matrix, accuracy_score, classification_report\n",
        "\n",
        "print('Accuracy for test: ',accuracy_score(Y_test,Y_pred))"
      ],
      "execution_count": null,
      "outputs": [
        {
          "output_type": "stream",
          "text": [
            "Accuracy for test:  0.9769230769230769\n"
          ],
          "name": "stdout"
        }
      ]
    },
    {
      "cell_type": "code",
      "metadata": {
        "id": "0vgxrgxfl7LD",
        "colab": {
          "base_uri": "https://localhost:8080/",
          "height": 85
        },
        "outputId": "df738ac6-d043-4ff8-b6c4-6bb40467eca3"
      },
      "source": [
        "print('Confussion matrix - Train: ','\\n',confusion_matrix(Y_train,Y_pred_train))\n",
        "print('Overall accuracy - Train: ',accuracy_score(Y_train,Y_pred_train))"
      ],
      "execution_count": null,
      "outputs": [
        {
          "output_type": "stream",
          "text": [
            "Confussion matrix - Train:  \n",
            " [[155   0]\n",
            " [  0 235]]\n",
            "Overall accuracy - Train:  1.0\n"
          ],
          "name": "stdout"
        }
      ]
    },
    {
      "cell_type": "code",
      "metadata": {
        "id": "eobgg61RmBuS",
        "colab": {
          "base_uri": "https://localhost:8080/",
          "height": 85
        },
        "outputId": "2fc4c56a-714e-43c7-d167-39677d5711c1"
      },
      "source": [
        "print('Confussion matrix - Test: ','\\n',confusion_matrix(Y_test,Y_pred))\n",
        "print('Overall accuracy - Test: ',accuracy_score(Y_test,Y_pred))"
      ],
      "execution_count": null,
      "outputs": [
        {
          "output_type": "stream",
          "text": [
            "Confussion matrix - Test:  \n",
            " [[43  2]\n",
            " [ 1 84]]\n",
            "Overall accuracy - Test:  0.9769230769230769\n"
          ],
          "name": "stdout"
        }
      ]
    },
    {
      "cell_type": "code",
      "metadata": {
        "id": "s0rtYzo8mSU2",
        "colab": {
          "base_uri": "https://localhost:8080/",
          "height": 170
        },
        "outputId": "b226f19e-a79b-4606-a131-300b1d061f00"
      },
      "source": [
        "print(classification_report(Y_train,Y_pred_train))"
      ],
      "execution_count": null,
      "outputs": [
        {
          "output_type": "stream",
          "text": [
            "              precision    recall  f1-score   support\n",
            "\n",
            "           0       1.00      1.00      1.00       155\n",
            "           1       1.00      1.00      1.00       235\n",
            "\n",
            "    accuracy                           1.00       390\n",
            "   macro avg       1.00      1.00      1.00       390\n",
            "weighted avg       1.00      1.00      1.00       390\n",
            "\n"
          ],
          "name": "stdout"
        }
      ]
    },
    {
      "cell_type": "code",
      "metadata": {
        "id": "I4dRx8G8mfUg",
        "colab": {
          "base_uri": "https://localhost:8080/",
          "height": 170
        },
        "outputId": "53a03e7c-da5c-4286-94d5-2d444db5582a"
      },
      "source": [
        "print(classification_report(Y_test,Y_pred))"
      ],
      "execution_count": null,
      "outputs": [
        {
          "output_type": "stream",
          "text": [
            "              precision    recall  f1-score   support\n",
            "\n",
            "           0       0.98      0.96      0.97        45\n",
            "           1       0.98      0.99      0.98        85\n",
            "\n",
            "    accuracy                           0.98       130\n",
            "   macro avg       0.98      0.97      0.97       130\n",
            "weighted avg       0.98      0.98      0.98       130\n",
            "\n"
          ],
          "name": "stdout"
        }
      ]
    },
    {
      "cell_type": "code",
      "metadata": {
        "id": "hI0rc8oUVDkC",
        "colab": {
          "base_uri": "https://localhost:8080/",
          "height": 312
        },
        "outputId": "a23e8aff-ec4a-4dad-a9c9-4f0a7af9b676"
      },
      "source": [
        "print('Test AUC value: ', roc_auc_score(Y_test, Y_prob)) #for test data\n",
        "\n",
        "fpr, tpr, thresholds = roc_curve(Y_test, Y_prob)\n",
        "\n",
        "plt.plot(fpr, tpr)\n",
        "plt.plot(fpr, fpr, 'g-')\n",
        "plt.xlabel('FPR')\n",
        "plt.ylabel('TPR')\n",
        "plt.title('ROC Curve of Test data')\n",
        "plt.show()"
      ],
      "execution_count": null,
      "outputs": [
        {
          "output_type": "stream",
          "text": [
            "Test AUC value:  0.9984313725490196\n"
          ],
          "name": "stdout"
        },
        {
          "output_type": "display_data",
          "data": {
            "image/png": "[encoded data removed]",
            "text/plain": [
              "<Figure size 432x288 with 1 Axes>"
            ]
          },
          "metadata": {
            "tags": [],
            "needs_background": "light"
          }
        }
      ]
    },
    {
      "cell_type": "markdown",
      "metadata": {
        "id": "n8RFtpDOm6TN"
      },
      "source": [
        "# ***Model(Decision Tree)***"
      ]
    },
    {
      "cell_type": "code",
      "metadata": {
        "id": "31pgnPPcmvGv",
        "colab": {
          "base_uri": "https://localhost:8080/",
          "height": 119
        },
        "outputId": "6987f43b-abc2-49fe-b30f-1b1802c75b9c"
      },
      "source": [
        "from sklearn.tree import DecisionTreeClassifier\n",
        "dt=DecisionTreeClassifier()\n",
        "\n",
        "dt.fit(X_train, Y_train)"
      ],
      "execution_count": null,
      "outputs": [
        {
          "output_type": "execute_result",
          "data": {
            "text/plain": [
              "DecisionTreeClassifier(ccp_alpha=0.0, class_weight=None, criterion='gini',\n",
              "                       max_depth=None, max_features=None, max_leaf_nodes=None,\n",
              "                       min_impurity_decrease=0.0, min_impurity_split=None,\n",
              "                       min_samples_leaf=1, min_samples_split=2,\n",
              "                       min_weight_fraction_leaf=0.0, presort='deprecated',\n",
              "                       random_state=None, splitter='best')"
            ]
          },
          "metadata": {
            "tags": []
          },
          "execution_count": 35
        }
      ]
    },
    {
      "cell_type": "markdown",
      "metadata": {
        "id": "2TYzhPuvdOhM"
      },
      "source": [
        "hyperperameter tuning"
      ]
    },
    {
      "cell_type": "code",
      "metadata": {
        "id": "-9Dwu0R8dOxl",
        "colab": {
          "base_uri": "https://localhost:8080/",
          "height": 51
        },
        "outputId": "e0c11091-b42d-45cb-8226-bffe3b6285e7"
      },
      "source": [
        "from scipy.stats import randint\n",
        "param_dist = {\"max_depth\": [3, None],\n",
        "              \"max_features\": randint(1, 9),\n",
        "              \"min_samples_leaf\": randint(1, 9),\n",
        "              \"criterion\": [\"gini\", \"entropy\"]}\n",
        "\n",
        "\n",
        "tree_cv = RandomizedSearchCV(dt, param_dist, cv=5)\n",
        "\n",
        "tree_cv.fit(X_train, Y_train)\n",
        "\n",
        "print(\"Tuned Decision Tree Parameters: {}\".format(tree_cv.best_params_))\n",
        "print(\"Best score is {}\".format(tree_cv.best_score_))"
      ],
      "execution_count": null,
      "outputs": [
        {
          "output_type": "stream",
          "text": [
            "Tuned Decision Tree Parameters: {'criterion': 'entropy', 'max_depth': None, 'max_features': 7, 'min_samples_leaf': 2}\n",
            "Best score is 0.9358974358974359\n"
          ],
          "name": "stdout"
        }
      ]
    },
    {
      "cell_type": "code",
      "metadata": {
        "id": "Gx5OyzBqntbk"
      },
      "source": [
        "Y_prob_train = dt.predict_proba(X_train)[:,1]\n",
        "Y_pred_train = dt.predict(X_train)\n",
        "Y_prob = dt.predict_proba(X_test)[:,1]\n",
        "Y_pred = dt.predict(X_test)"
      ],
      "execution_count": null,
      "outputs": []
    },
    {
      "cell_type": "code",
      "metadata": {
        "id": "SPuuKAtXn8sz",
        "colab": {
          "base_uri": "https://localhost:8080/",
          "height": 34
        },
        "outputId": "04acda64-beb4-4bed-cd13-74a1217c13c7"
      },
      "source": [
        "from sklearn.metrics import confusion_matrix, accuracy_score, classification_report\n",
        "\n",
        "print('Accuracy for test: ',accuracy_score(Y_test,Y_pred))"
      ],
      "execution_count": null,
      "outputs": [
        {
          "output_type": "stream",
          "text": [
            "Accuracy for test:  0.9769230769230769\n"
          ],
          "name": "stdout"
        }
      ]
    },
    {
      "cell_type": "code",
      "metadata": {
        "id": "5ni_cqywoAvM",
        "colab": {
          "base_uri": "https://localhost:8080/",
          "height": 85
        },
        "outputId": "11caeb43-a32d-4154-aae0-5a718b63627f"
      },
      "source": [
        "print('Confussion matrix - Train: ','\\n',confusion_matrix(Y_train,Y_pred_train))\n",
        "print('Overall accuracy - Train: ',accuracy_score(Y_train,Y_pred_train))"
      ],
      "execution_count": null,
      "outputs": [
        {
          "output_type": "stream",
          "text": [
            "Confussion matrix - Train:  \n",
            " [[155   0]\n",
            " [  0 235]]\n",
            "Overall accuracy - Train:  1.0\n"
          ],
          "name": "stdout"
        }
      ]
    },
    {
      "cell_type": "code",
      "metadata": {
        "id": "rnxEOpdioG9K",
        "colab": {
          "base_uri": "https://localhost:8080/",
          "height": 85
        },
        "outputId": "81d13286-3132-4c9a-a925-92d21f02d2cc"
      },
      "source": [
        "print('Confussion matrix - Test: ','\\n',confusion_matrix(Y_test,Y_pred))\n",
        "print('Overall accuracy - Test: ',accuracy_score(Y_test,Y_pred))"
      ],
      "execution_count": null,
      "outputs": [
        {
          "output_type": "stream",
          "text": [
            "Confussion matrix - Test:  \n",
            " [[42  3]\n",
            " [ 0 85]]\n",
            "Overall accuracy - Test:  0.9769230769230769\n"
          ],
          "name": "stdout"
        }
      ]
    },
    {
      "cell_type": "code",
      "metadata": {
        "id": "5p9ivbqAoKpA",
        "colab": {
          "base_uri": "https://localhost:8080/",
          "height": 170
        },
        "outputId": "f92704a3-6c10-47f3-ab46-dfc894e53206"
      },
      "source": [
        "print(classification_report(Y_train,Y_pred_train))"
      ],
      "execution_count": null,
      "outputs": [
        {
          "output_type": "stream",
          "text": [
            "              precision    recall  f1-score   support\n",
            "\n",
            "           0       1.00      1.00      1.00       155\n",
            "           1       1.00      1.00      1.00       235\n",
            "\n",
            "    accuracy                           1.00       390\n",
            "   macro avg       1.00      1.00      1.00       390\n",
            "weighted avg       1.00      1.00      1.00       390\n",
            "\n"
          ],
          "name": "stdout"
        }
      ]
    },
    {
      "cell_type": "code",
      "metadata": {
        "id": "9g3ApY_foNeD",
        "colab": {
          "base_uri": "https://localhost:8080/",
          "height": 170
        },
        "outputId": "4ee2e936-eade-414c-9404-bff74384230e"
      },
      "source": [
        "print(classification_report(Y_test,Y_pred))"
      ],
      "execution_count": null,
      "outputs": [
        {
          "output_type": "stream",
          "text": [
            "              precision    recall  f1-score   support\n",
            "\n",
            "           0       1.00      0.93      0.97        45\n",
            "           1       0.97      1.00      0.98        85\n",
            "\n",
            "    accuracy                           0.98       130\n",
            "   macro avg       0.98      0.97      0.97       130\n",
            "weighted avg       0.98      0.98      0.98       130\n",
            "\n"
          ],
          "name": "stdout"
        }
      ]
    },
    {
      "cell_type": "code",
      "metadata": {
        "id": "A6aCrDZtVF_V",
        "colab": {
          "base_uri": "https://localhost:8080/",
          "height": 312
        },
        "outputId": "dd576949-48d6-4c4f-8b0c-7a87b051bc60"
      },
      "source": [
        "print('Test AUC value: ', roc_auc_score(Y_test, Y_prob)) #for test data\n",
        "\n",
        "fpr, tpr, thresholds = roc_curve(Y_test, Y_prob)\n",
        "\n",
        "plt.plot(fpr, tpr)\n",
        "plt.plot(fpr, fpr, 'g-')\n",
        "plt.xlabel('FPR')\n",
        "plt.ylabel('TPR')\n",
        "plt.title('ROC Curve of Test data')\n",
        "plt.show()"
      ],
      "execution_count": null,
      "outputs": [
        {
          "output_type": "stream",
          "text": [
            "Test AUC value:  0.9666666666666667\n"
          ],
          "name": "stdout"
        },
        {
          "output_type": "display_data",
          "data": {
            "image/png": "[encoded data removed]",
            "text/plain": [
              "<Figure size 432x288 with 1 Axes>"
            ]
          },
          "metadata": {
            "tags": [],
            "needs_background": "light"
          }
        }
      ]
    },
    {
      "cell_type": "markdown",
      "metadata": {
        "id": "07ubozVQotN7"
      },
      "source": [
        "# ***Model(GaussianProcessClassifier)***"
      ]
    },
    {
      "cell_type": "code",
      "metadata": {
        "id": "Gieug16Go4d_",
        "colab": {
          "base_uri": "https://localhost:8080/",
          "height": 85
        },
        "outputId": "ee01bddf-0dcf-4f86-e438-2670fdb24bd6"
      },
      "source": [
        "from sklearn.gaussian_process import GaussianProcessClassifier\n",
        "gc=GaussianProcessClassifier()\n",
        "\n",
        "gc.fit(X_train, Y_train)"
      ],
      "execution_count": null,
      "outputs": [
        {
          "output_type": "execute_result",
          "data": {
            "text/plain": [
              "GaussianProcessClassifier(copy_X_train=True, kernel=None, max_iter_predict=100,\n",
              "                          multi_class='one_vs_rest', n_jobs=None,\n",
              "                          n_restarts_optimizer=0, optimizer='fmin_l_bfgs_b',\n",
              "                          random_state=None, warm_start=False)"
            ]
          },
          "metadata": {
            "tags": []
          },
          "execution_count": 44
        }
      ]
    },
    {
      "cell_type": "markdown",
      "metadata": {
        "id": "pP4wtmhwooTv"
      },
      "source": [
        "hyperperameter tuning"
      ]
    },
    {
      "cell_type": "code",
      "metadata": {
        "id": "5lT_s6uMov_b",
        "colab": {
          "base_uri": "https://localhost:8080/",
          "height": 190
        },
        "outputId": "9054e20f-28ae-4d33-8f43-018943d5edc4"
      },
      "source": [
        "from sklearn.gaussian_process.kernels import DotProduct\n",
        "from sklearn.gaussian_process.kernels import Matern\n",
        "from sklearn.gaussian_process.kernels import RBF\n",
        "param_grid = {'kernel':[DotProduct(i) for i in [0.2, 0.5, 1,2,3,5]] + [Matern(i) for i in [0.2, 0.5, 1,2,3,5]]  + [RBF(i) for i in [0.2, 0.5, 1,2,3,5]]}\n",
        "              \n",
        "random_search = RandomizedSearchCV(gc, param_grid,n_jobs=4,n_iter=20,random_state=0,verbose=3)\n",
        "random_search.fit(X_train, Y_train)\n",
        "print('Best parameters found:\\n', random_search.best_params_)\n",
        "print('Best Score: ', random_search.best_score_)"
      ],
      "execution_count": null,
      "outputs": [
        {
          "output_type": "stream",
          "text": [
            "/usr/local/lib/python3.6/dist-packages/sklearn/model_selection/_search.py:281: UserWarning: The total space of parameters 18 is smaller than n_iter=20. Running 18 iterations. For exhaustive searches, use GridSearchCV.\n",
            "  % (grid_size, self.n_iter, grid_size), UserWarning)\n",
            "[Parallel(n_jobs=4)]: Using backend LokyBackend with 4 concurrent workers.\n"
          ],
          "name": "stderr"
        },
        {
          "output_type": "stream",
          "text": [
            "Fitting 5 folds for each of 18 candidates, totalling 90 fits\n"
          ],
          "name": "stdout"
        },
        {
          "output_type": "stream",
          "text": [
            "[Parallel(n_jobs=4)]: Done  24 tasks      | elapsed:    9.4s\n",
            "[Parallel(n_jobs=4)]: Done  90 out of  90 | elapsed:   23.9s finished\n"
          ],
          "name": "stderr"
        },
        {
          "output_type": "stream",
          "text": [
            "Best parameters found:\n",
            " {'kernel': RBF(length_scale=0.2)}\n",
            "Best Score:  0.9282051282051281\n"
          ],
          "name": "stdout"
        }
      ]
    },
    {
      "cell_type": "code",
      "metadata": {
        "id": "9kq8UwCfpSJu"
      },
      "source": [
        "Y_prob_train = gc.predict_proba(X_train)[:,1]\n",
        "Y_pred_train = gc.predict(X_train)\n",
        "Y_prob = gc.predict_proba(X_test)[:,1]\n",
        "Y_pred = gc.predict(X_test)"
      ],
      "execution_count": null,
      "outputs": []
    },
    {
      "cell_type": "code",
      "metadata": {
        "id": "y3IkD5ajpc9O",
        "colab": {
          "base_uri": "https://localhost:8080/",
          "height": 34
        },
        "outputId": "9b6efd43-7b5d-4afb-a676-a9ee1f7ede2e"
      },
      "source": [
        "\n",
        "print('Accuracy for test: ',accuracy_score(Y_test,Y_pred))"
      ],
      "execution_count": null,
      "outputs": [
        {
          "output_type": "stream",
          "text": [
            "Accuracy for test:  0.9230769230769231\n"
          ],
          "name": "stdout"
        }
      ]
    },
    {
      "cell_type": "code",
      "metadata": {
        "id": "E-CnTw52x1tH",
        "colab": {
          "base_uri": "https://localhost:8080/",
          "height": 85
        },
        "outputId": "1bbd9869-1797-49dc-d866-ded6af689495"
      },
      "source": [
        "print('Confussion matrix - Train: ','\\n',confusion_matrix(Y_train,Y_pred_train))\n",
        "print('Overall accuracy - Train: ',accuracy_score(Y_train,Y_pred_train))"
      ],
      "execution_count": null,
      "outputs": [
        {
          "output_type": "stream",
          "text": [
            "Confussion matrix - Train:  \n",
            " [[155   0]\n",
            " [  1 234]]\n",
            "Overall accuracy - Train:  0.9974358974358974\n"
          ],
          "name": "stdout"
        }
      ]
    },
    {
      "cell_type": "code",
      "metadata": {
        "id": "Coh8sqDUx6nu",
        "colab": {
          "base_uri": "https://localhost:8080/",
          "height": 85
        },
        "outputId": "139338d4-0f4e-4de8-e191-530db9595cdb"
      },
      "source": [
        "print('Confussion matrix - Test: ','\\n',confusion_matrix(Y_test,Y_pred))\n",
        "print('Overall accuracy - Test: ',accuracy_score(Y_test,Y_pred))"
      ],
      "execution_count": null,
      "outputs": [
        {
          "output_type": "stream",
          "text": [
            "Confussion matrix - Test:  \n",
            " [[41  4]\n",
            " [ 6 79]]\n",
            "Overall accuracy - Test:  0.9230769230769231\n"
          ],
          "name": "stdout"
        }
      ]
    },
    {
      "cell_type": "code",
      "metadata": {
        "id": "KtABxZXrx8hH",
        "colab": {
          "base_uri": "https://localhost:8080/",
          "height": 170
        },
        "outputId": "e069637c-f8fc-467e-a60b-39bec34bdc9e"
      },
      "source": [
        "print(classification_report(Y_train,Y_pred_train))"
      ],
      "execution_count": null,
      "outputs": [
        {
          "output_type": "stream",
          "text": [
            "              precision    recall  f1-score   support\n",
            "\n",
            "           0       0.99      1.00      1.00       155\n",
            "           1       1.00      1.00      1.00       235\n",
            "\n",
            "    accuracy                           1.00       390\n",
            "   macro avg       1.00      1.00      1.00       390\n",
            "weighted avg       1.00      1.00      1.00       390\n",
            "\n"
          ],
          "name": "stdout"
        }
      ]
    },
    {
      "cell_type": "code",
      "metadata": {
        "id": "XcN0UprJyEyi",
        "colab": {
          "base_uri": "https://localhost:8080/",
          "height": 170
        },
        "outputId": "bc7d8879-1d41-446e-9a86-812d13b7f50c"
      },
      "source": [
        "print(classification_report(Y_test,Y_pred))"
      ],
      "execution_count": null,
      "outputs": [
        {
          "output_type": "stream",
          "text": [
            "              precision    recall  f1-score   support\n",
            "\n",
            "           0       0.87      0.91      0.89        45\n",
            "           1       0.95      0.93      0.94        85\n",
            "\n",
            "    accuracy                           0.92       130\n",
            "   macro avg       0.91      0.92      0.92       130\n",
            "weighted avg       0.92      0.92      0.92       130\n",
            "\n"
          ],
          "name": "stdout"
        }
      ]
    },
    {
      "cell_type": "code",
      "metadata": {
        "id": "ZMDxpbE6VIA-",
        "colab": {
          "base_uri": "https://localhost:8080/",
          "height": 312
        },
        "outputId": "9e1271ca-c562-4cdb-b9af-346995735b6d"
      },
      "source": [
        "print('Test AUC value: ', roc_auc_score(Y_test, Y_prob)) #for test data\n",
        "\n",
        "fpr, tpr, thresholds = roc_curve(Y_test, Y_prob)\n",
        "\n",
        "plt.plot(fpr, tpr)\n",
        "plt.plot(fpr, fpr, 'g-')\n",
        "plt.xlabel('FPR')\n",
        "plt.ylabel('TPR')\n",
        "plt.title('ROC Curve of Test data')\n",
        "plt.show()"
      ],
      "execution_count": null,
      "outputs": [
        {
          "output_type": "stream",
          "text": [
            "Test AUC value:  0.9832679738562091\n"
          ],
          "name": "stdout"
        },
        {
          "output_type": "display_data",
          "data": {
            "image/png": "[encoded data removed]",
            "text/plain": [
              "<Figure size 432x288 with 1 Axes>"
            ]
          },
          "metadata": {
            "tags": [],
            "needs_background": "light"
          }
        }
      ]
    },
    {
      "cell_type": "markdown",
      "metadata": {
        "id": "iYBuv2ZmyrDr"
      },
      "source": [
        "# ***Model(AdaBoostClassifier)***"
      ]
    },
    {
      "cell_type": "code",
      "metadata": {
        "id": "Q6vHYwqxy05u",
        "colab": {
          "base_uri": "https://localhost:8080/",
          "height": 51
        },
        "outputId": "5ac1c0b3-0032-4ef4-a745-1d600529be95"
      },
      "source": [
        "from sklearn.ensemble import AdaBoostClassifier\n",
        "abc=AdaBoostClassifier()\n",
        "\n",
        "abc.fit(X_train, Y_train)\n"
      ],
      "execution_count": null,
      "outputs": [
        {
          "output_type": "execute_result",
          "data": {
            "text/plain": [
              "AdaBoostClassifier(algorithm='SAMME.R', base_estimator=None, learning_rate=1.0,\n",
              "                   n_estimators=50, random_state=None)"
            ]
          },
          "metadata": {
            "tags": []
          },
          "execution_count": 53
        }
      ]
    },
    {
      "cell_type": "markdown",
      "metadata": {
        "id": "_XPY0kVTKwyP"
      },
      "source": [
        "hyperperameter tuning"
      ]
    },
    {
      "cell_type": "code",
      "metadata": {
        "id": "-6BDifuPT1W4",
        "colab": {
          "base_uri": "https://localhost:8080/",
          "height": 68
        },
        "outputId": "97da799e-0a60-4ade-cbd6-900c7dd98c17"
      },
      "source": [
        "param_dist = {\n",
        "    \"n_estimators\":[100,200],\n",
        "    \"learning_rate\":[0.001,0.01,0.1,0.2,0.5]}\n",
        "              \n",
        "random_search = RandomizedSearchCV(abc, param_distributions=param_dist)\n",
        "random_search.fit(X_train, Y_train)\n",
        "print('Best parameters found:\\n', random_search.best_params_)\n",
        "print('Best Score: ', random_search.best_score_)\n"
      ],
      "execution_count": null,
      "outputs": [
        {
          "output_type": "stream",
          "text": [
            "Best parameters found:\n",
            " {'n_estimators': 200, 'learning_rate': 0.2}\n",
            "Best Score:  0.9153846153846154\n"
          ],
          "name": "stdout"
        }
      ]
    },
    {
      "cell_type": "code",
      "metadata": {
        "id": "L3U2pwW7zYcW",
        "colab": {
          "base_uri": "https://localhost:8080/",
          "height": 170
        },
        "outputId": "4026a668-0daf-47a8-be28-4a22f3818a71"
      },
      "source": [
        "Y_prob_train = abc.predict_proba(X_train)[:,1]\n",
        "Y_pred_train = abc.predict(X_train)\n",
        "Y_prob = abc.predict_proba(X_test)[:,1]\n",
        "Y_pred = abc.predict(X_test)\n",
        "print('Accuracy for test: ',accuracy_score(Y_test,Y_pred))\n",
        "print('Confussion matrix - Train: ','\\n',confusion_matrix(Y_train,Y_pred_train))\n",
        "print('Overall accuracy - Train: ',accuracy_score(Y_train,Y_pred_train))\n",
        "print('Confussion matrix - Test: ','\\n',confusion_matrix(Y_test,Y_pred))\n",
        "print('Overall accuracy - Test: ',accuracy_score(Y_test,Y_pred))"
      ],
      "execution_count": null,
      "outputs": [
        {
          "output_type": "stream",
          "text": [
            "Accuracy for test:  0.9461538461538461\n",
            "Confussion matrix - Train:  \n",
            " [[146   9]\n",
            " [ 13 222]]\n",
            "Overall accuracy - Train:  0.9435897435897436\n",
            "Confussion matrix - Test:  \n",
            " [[41  4]\n",
            " [ 3 82]]\n",
            "Overall accuracy - Test:  0.9461538461538461\n"
          ],
          "name": "stdout"
        }
      ]
    },
    {
      "cell_type": "code",
      "metadata": {
        "id": "AzeXjjjv0A5p",
        "colab": {
          "base_uri": "https://localhost:8080/",
          "height": 170
        },
        "outputId": "d3787bdb-ff0d-4a33-c916-53dafafb9fa0"
      },
      "source": [
        "print(classification_report(Y_test,Y_pred))"
      ],
      "execution_count": null,
      "outputs": [
        {
          "output_type": "stream",
          "text": [
            "              precision    recall  f1-score   support\n",
            "\n",
            "           0       0.93      0.91      0.92        45\n",
            "           1       0.95      0.96      0.96        85\n",
            "\n",
            "    accuracy                           0.95       130\n",
            "   macro avg       0.94      0.94      0.94       130\n",
            "weighted avg       0.95      0.95      0.95       130\n",
            "\n"
          ],
          "name": "stdout"
        }
      ]
    },
    {
      "cell_type": "code",
      "metadata": {
        "id": "WEO82VTNVJw_",
        "colab": {
          "base_uri": "https://localhost:8080/",
          "height": 312
        },
        "outputId": "37df51f7-eaf3-4fc8-98f6-0181c17b0ed8"
      },
      "source": [
        "print('Test AUC value: ', roc_auc_score(Y_test, Y_prob)) #for test data\n",
        "\n",
        "fpr, tpr, thresholds = roc_curve(Y_test, Y_prob)\n",
        "\n",
        "plt.plot(fpr, tpr)\n",
        "plt.plot(fpr, fpr, 'g-')\n",
        "plt.xlabel('FPR')\n",
        "plt.ylabel('TPR')\n",
        "plt.title('ROC Curve of Test data')\n",
        "plt.show()"
      ],
      "execution_count": null,
      "outputs": [
        {
          "output_type": "stream",
          "text": [
            "Test AUC value:  0.981437908496732\n"
          ],
          "name": "stdout"
        },
        {
          "output_type": "display_data",
          "data": {
            "image/png": "[encoded data removed]",
            "text/plain": [
              "<Figure size 432x288 with 1 Axes>"
            ]
          },
          "metadata": {
            "tags": [],
            "needs_background": "light"
          }
        }
      ]
    },
    {
      "cell_type": "markdown",
      "metadata": {
        "id": "x6nR5_GW0NOJ"
      },
      "source": [
        "# ***Model(GradientBoostingClassifier)***"
      ]
    },
    {
      "cell_type": "code",
      "metadata": {
        "id": "l5Yh09x-0HnM",
        "colab": {
          "base_uri": "https://localhost:8080/",
          "height": 187
        },
        "outputId": "6eca8631-4421-4033-a64d-320680cbc1f4"
      },
      "source": [
        "from sklearn.ensemble import GradientBoostingClassifier\n",
        "gbc=GradientBoostingClassifier()\n",
        "\n",
        "gbc.fit(X_train, Y_train)"
      ],
      "execution_count": null,
      "outputs": [
        {
          "output_type": "execute_result",
          "data": {
            "text/plain": [
              "GradientBoostingClassifier(ccp_alpha=0.0, criterion='friedman_mse', init=None,\n",
              "                           learning_rate=0.1, loss='deviance', max_depth=3,\n",
              "                           max_features=None, max_leaf_nodes=None,\n",
              "                           min_impurity_decrease=0.0, min_impurity_split=None,\n",
              "                           min_samples_leaf=1, min_samples_split=2,\n",
              "                           min_weight_fraction_leaf=0.0, n_estimators=100,\n",
              "                           n_iter_no_change=None, presort='deprecated',\n",
              "                           random_state=None, subsample=1.0, tol=0.0001,\n",
              "                           validation_fraction=0.1, verbose=0,\n",
              "                           warm_start=False)"
            ]
          },
          "metadata": {
            "tags": []
          },
          "execution_count": 58
        }
      ]
    },
    {
      "cell_type": "markdown",
      "metadata": {
        "id": "G3xNgjo2il18"
      },
      "source": [
        "hyperperameter tuning"
      ]
    },
    {
      "cell_type": "code",
      "metadata": {
        "id": "-OAD7XgIip6V",
        "colab": {
          "base_uri": "https://localhost:8080/",
          "height": 68
        },
        "outputId": "72e85e5d-fe97-4445-a11c-1536b2b7bbf9"
      },
      "source": [
        "param_dist = {\n",
        "    \"n_estimators\":[5,50,250,500],\n",
        "    \"max_depth\":[1,3,5,7,9],\n",
        "    \"learning_rate\":[0.01,0.1,1,10,100]\n",
        "    }\n",
        "              \n",
        "random_search = RandomizedSearchCV(gbc, param_distributions=param_dist,cv=5)\n",
        "random_search.fit(X_train, Y_train)\n",
        "print('Best parameters found:\\n', random_search.best_params_)\n",
        "print('Best Score: ', random_search.best_score_) "
      ],
      "execution_count": null,
      "outputs": [
        {
          "output_type": "stream",
          "text": [
            "Best parameters found:\n",
            " {'n_estimators': 50, 'max_depth': 3, 'learning_rate': 1}\n",
            "Best Score:  0.9615384615384617\n"
          ],
          "name": "stdout"
        }
      ]
    },
    {
      "cell_type": "code",
      "metadata": {
        "id": "fnqH4JJN0bIi",
        "colab": {
          "base_uri": "https://localhost:8080/",
          "height": 170
        },
        "outputId": "a552ead3-5aa3-40f3-b10c-27d131959e09"
      },
      "source": [
        "Y_prob_train = gbc.predict_proba(X_train)[:,1]\n",
        "Y_pred_train = gbc.predict(X_train)\n",
        "Y_prob = gbc.predict_proba(X_test)[:,1]\n",
        "Y_pred = gbc.predict(X_test)\n",
        "print('Accuracy for test: ',accuracy_score(Y_test,Y_pred))\n",
        "print('Confussion matrix - Train: ','\\n',confusion_matrix(Y_train,Y_pred_train))\n",
        "print('Overall accuracy - Train: ',accuracy_score(Y_train,Y_pred_train))\n",
        "print('Confussion matrix - Test: ','\\n',confusion_matrix(Y_test,Y_pred))\n",
        "print('Overall accuracy - Test: ',accuracy_score(Y_test,Y_pred))"
      ],
      "execution_count": null,
      "outputs": [
        {
          "output_type": "stream",
          "text": [
            "Accuracy for test:  0.9846153846153847\n",
            "Confussion matrix - Train:  \n",
            " [[155   0]\n",
            " [  0 235]]\n",
            "Overall accuracy - Train:  1.0\n",
            "Confussion matrix - Test:  \n",
            " [[43  2]\n",
            " [ 0 85]]\n",
            "Overall accuracy - Test:  0.9846153846153847\n"
          ],
          "name": "stdout"
        }
      ]
    },
    {
      "cell_type": "code",
      "metadata": {
        "id": "b9MBcCn20uPk",
        "colab": {
          "base_uri": "https://localhost:8080/",
          "height": 170
        },
        "outputId": "e85de69a-8c6f-4c48-e8bc-444656261c86"
      },
      "source": [
        "print(classification_report(Y_test,Y_pred))"
      ],
      "execution_count": null,
      "outputs": [
        {
          "output_type": "stream",
          "text": [
            "              precision    recall  f1-score   support\n",
            "\n",
            "           0       1.00      0.96      0.98        45\n",
            "           1       0.98      1.00      0.99        85\n",
            "\n",
            "    accuracy                           0.98       130\n",
            "   macro avg       0.99      0.98      0.98       130\n",
            "weighted avg       0.98      0.98      0.98       130\n",
            "\n"
          ],
          "name": "stdout"
        }
      ]
    },
    {
      "cell_type": "code",
      "metadata": {
        "id": "xLlm2PXUVLcX",
        "colab": {
          "base_uri": "https://localhost:8080/",
          "height": 312
        },
        "outputId": "3de6a9e5-0c05-4fff-9708-254593fb8ca1"
      },
      "source": [
        "print('Test AUC value: ', roc_auc_score(Y_test, Y_prob)) #for test data\n",
        "\n",
        "fpr, tpr, thresholds = roc_curve(Y_test, Y_prob)\n",
        "\n",
        "plt.plot(fpr, tpr)\n",
        "plt.plot(fpr, fpr, 'g-')\n",
        "plt.xlabel('FPR')\n",
        "plt.ylabel('TPR')\n",
        "plt.title('ROC Curve of Test data')\n",
        "plt.show()"
      ],
      "execution_count": null,
      "outputs": [
        {
          "output_type": "stream",
          "text": [
            "Test AUC value:  0.9979084967320262\n"
          ],
          "name": "stdout"
        },
        {
          "output_type": "display_data",
          "data": {
            "image/png": "[encoded data removed]",
            "text/plain": [
              "<Figure size 432x288 with 1 Axes>"
            ]
          },
          "metadata": {
            "tags": [],
            "needs_background": "light"
          }
        }
      ]
    },
    {
      "cell_type": "markdown",
      "metadata": {
        "id": "cenrhiCC08-0"
      },
      "source": [
        "# ***Model(*ExtraTreesClassifier*)***"
      ]
    },
    {
      "cell_type": "code",
      "metadata": {
        "id": "xQIURUpq1F9D",
        "colab": {
          "base_uri": "https://localhost:8080/",
          "height": 153
        },
        "outputId": "875a4959-6d74-4e4f-82f8-3a09d906ca79"
      },
      "source": [
        "from sklearn.ensemble import ExtraTreesClassifier\n",
        "tuki=ExtraTreesClassifier()\n",
        "\n",
        "tuki.fit(X_train, Y_train)"
      ],
      "execution_count": null,
      "outputs": [
        {
          "output_type": "execute_result",
          "data": {
            "text/plain": [
              "ExtraTreesClassifier(bootstrap=False, ccp_alpha=0.0, class_weight=None,\n",
              "                     criterion='gini', max_depth=None, max_features='auto',\n",
              "                     max_leaf_nodes=None, max_samples=None,\n",
              "                     min_impurity_decrease=0.0, min_impurity_split=None,\n",
              "                     min_samples_leaf=1, min_samples_split=2,\n",
              "                     min_weight_fraction_leaf=0.0, n_estimators=100,\n",
              "                     n_jobs=None, oob_score=False, random_state=None, verbose=0,\n",
              "                     warm_start=False)"
            ]
          },
          "metadata": {
            "tags": []
          },
          "execution_count": 63
        }
      ]
    },
    {
      "cell_type": "markdown",
      "metadata": {
        "id": "Di0eDmijdoaV"
      },
      "source": [
        "hyperperameter tuning"
      ]
    },
    {
      "cell_type": "code",
      "metadata": {
        "id": "wH052xuTdnsg",
        "colab": {
          "base_uri": "https://localhost:8080/",
          "height": 122
        },
        "outputId": "725618c2-9572-4394-830c-39f0a6715d56"
      },
      "source": [
        "param_dist = {\"max_depth\": [3, None],\n",
        "              \"max_features\": sp_randint(1, X_train.shape[1]),\n",
        "              \"min_samples_split\": sp_randint(2, 11),\n",
        "              \"bootstrap\": [True, False],\n",
        "              \"n_estimators\": sp_randint(100, 500)}\n",
        "              \n",
        "random_search = RandomizedSearchCV(tuki, param_distributions=param_dist,\n",
        "                                   n_iter=10, cv=5, iid=False, random_state=42)\n",
        "random_search.fit(X_train, Y_train)\n",
        "print('Best parameters found:\\n',random_search.best_params_)\n",
        "print('Best Score: ', random_search.best_score_) "
      ],
      "execution_count": null,
      "outputs": [
        {
          "output_type": "stream",
          "text": [
            "/usr/local/lib/python3.6/dist-packages/sklearn/model_selection/_search.py:823: FutureWarning: The parameter 'iid' is deprecated in 0.22 and will be removed in 0.24.\n",
            "  \"removed in 0.24.\", FutureWarning\n"
          ],
          "name": "stderr"
        },
        {
          "output_type": "stream",
          "text": [
            "Best parameters found:\n",
            " {'bootstrap': False, 'max_depth': None, 'max_features': 5, 'min_samples_split': 2, 'n_estimators': 413}\n",
            "Best Score:  0.9717948717948719\n"
          ],
          "name": "stdout"
        }
      ]
    },
    {
      "cell_type": "code",
      "metadata": {
        "id": "nnumEZ2B1Mu-",
        "colab": {
          "base_uri": "https://localhost:8080/",
          "height": 170
        },
        "outputId": "f267932b-6bc7-48ed-a41b-2e753b2f7039"
      },
      "source": [
        "Y_prob_train = tuki.predict_proba(X_train)[:,1]\n",
        "Y_pred_train = tuki.predict(X_train)\n",
        "Y_prob = tuki.predict_proba(X_test)[:,1]\n",
        "Y_pred = tuki.predict(X_test)\n",
        "print('Accuracy for test: ',accuracy_score(Y_test,Y_pred))\n",
        "print('Confussion matrix - Train: ','\\n',confusion_matrix(Y_train,Y_pred_train))\n",
        "print('Overall accuracy - Train: ',accuracy_score(Y_train,Y_pred_train))\n",
        "print('Confussion matrix - Test: ','\\n',confusion_matrix(Y_test,Y_pred))\n",
        "print('Overall accuracy - Test: ',accuracy_score(Y_test,Y_pred))"
      ],
      "execution_count": null,
      "outputs": [
        {
          "output_type": "stream",
          "text": [
            "Accuracy for test:  0.9846153846153847\n",
            "Confussion matrix - Train:  \n",
            " [[155   0]\n",
            " [  0 235]]\n",
            "Overall accuracy - Train:  1.0\n",
            "Confussion matrix - Test:  \n",
            " [[43  2]\n",
            " [ 0 85]]\n",
            "Overall accuracy - Test:  0.9846153846153847\n"
          ],
          "name": "stdout"
        }
      ]
    },
    {
      "cell_type": "code",
      "metadata": {
        "id": "-jai4xyu203r",
        "colab": {
          "base_uri": "https://localhost:8080/",
          "height": 170
        },
        "outputId": "46c7c80a-a255-4426-feba-efec4732784e"
      },
      "source": [
        "print(classification_report(Y_test,Y_pred))"
      ],
      "execution_count": null,
      "outputs": [
        {
          "output_type": "stream",
          "text": [
            "              precision    recall  f1-score   support\n",
            "\n",
            "           0       1.00      0.96      0.98        45\n",
            "           1       0.98      1.00      0.99        85\n",
            "\n",
            "    accuracy                           0.98       130\n",
            "   macro avg       0.99      0.98      0.98       130\n",
            "weighted avg       0.98      0.98      0.98       130\n",
            "\n"
          ],
          "name": "stdout"
        }
      ]
    },
    {
      "cell_type": "code",
      "metadata": {
        "id": "UC63hmphVNZV",
        "colab": {
          "base_uri": "https://localhost:8080/",
          "height": 312
        },
        "outputId": "2a1c1992-255c-45f1-bf35-e81173e4021f"
      },
      "source": [
        "print('Test AUC value: ', roc_auc_score(Y_test, Y_prob)) #for test data\n",
        "\n",
        "fpr, tpr, thresholds = roc_curve(Y_test, Y_prob)\n",
        "\n",
        "plt.plot(fpr, tpr)\n",
        "plt.plot(fpr, fpr, 'g-')\n",
        "plt.xlabel('FPR')\n",
        "plt.ylabel('TPR')\n",
        "plt.title('ROC Curve of Test data')\n",
        "plt.show()"
      ],
      "execution_count": null,
      "outputs": [
        {
          "output_type": "stream",
          "text": [
            "Test AUC value:  0.9996078431372548\n"
          ],
          "name": "stdout"
        },
        {
          "output_type": "display_data",
          "data": {
            "image/png": "[encoded data removed]",
            "text/plain": [
              "<Figure size 432x288 with 1 Axes>"
            ]
          },
          "metadata": {
            "tags": [],
            "needs_background": "light"
          }
        }
      ]
    },
    {
      "cell_type": "markdown",
      "metadata": {
        "id": "0LsBl7iy2XI2"
      },
      "source": [
        "# ***Model(MLPClassifier)***"
      ]
    },
    {
      "cell_type": "code",
      "metadata": {
        "id": "iH_9G5p32SsX",
        "colab": {
          "base_uri": "https://localhost:8080/",
          "height": 207
        },
        "outputId": "bd41cb56-7097-4a44-8da6-6e70d78d32f8"
      },
      "source": [
        "from sklearn.neural_network import MLPClassifier\n",
        "mlp=MLPClassifier()\n",
        "\n",
        "mlp.fit(X_train, Y_train)"
      ],
      "execution_count": null,
      "outputs": [
        {
          "output_type": "stream",
          "text": [
            "/usr/local/lib/python3.6/dist-packages/sklearn/neural_network/_multilayer_perceptron.py:571: ConvergenceWarning: Stochastic Optimizer: Maximum iterations (200) reached and the optimization hasn't converged yet.\n",
            "  % self.max_iter, ConvergenceWarning)\n"
          ],
          "name": "stderr"
        },
        {
          "output_type": "execute_result",
          "data": {
            "text/plain": [
              "MLPClassifier(activation='relu', alpha=0.0001, batch_size='auto', beta_1=0.9,\n",
              "              beta_2=0.999, early_stopping=False, epsilon=1e-08,\n",
              "              hidden_layer_sizes=(100,), learning_rate='constant',\n",
              "              learning_rate_init=0.001, max_fun=15000, max_iter=200,\n",
              "              momentum=0.9, n_iter_no_change=10, nesterovs_momentum=True,\n",
              "              power_t=0.5, random_state=None, shuffle=True, solver='adam',\n",
              "              tol=0.0001, validation_fraction=0.1, verbose=False,\n",
              "              warm_start=False)"
            ]
          },
          "metadata": {
            "tags": []
          },
          "execution_count": 68
        }
      ]
    },
    {
      "cell_type": "markdown",
      "metadata": {
        "id": "kBevd7mmgTa3"
      },
      "source": [
        "hyperperameret tuning"
      ]
    },
    {
      "cell_type": "code",
      "metadata": {
        "id": "dleXXSfxgXqc",
        "colab": {
          "base_uri": "https://localhost:8080/",
          "height": 122
        },
        "outputId": "ebb27a3f-71f5-41b0-9ec7-7fef8510ce1a"
      },
      "source": [
        "from sklearn.model_selection import GridSearchCV\n",
        "parameter_space = {\n",
        "    'hidden_layer_sizes': [(10,30,10),(20,)],\n",
        "    'activation': ['tanh', 'relu'],\n",
        "    'solver': ['sgd', 'adam'],\n",
        "    'alpha': [0.0001, 0.05],\n",
        "    'learning_rate': ['constant','adaptive'],\n",
        "}\n",
        "\n",
        "clf = GridSearchCV(mlp, parameter_space, n_jobs=-1, cv=5)\n",
        "clf.fit(X_train, Y_train)\n",
        "print('Best parameters found:\\n', clf.best_params_)\n",
        "print('Best Score: ', clf.best_score_) "
      ],
      "execution_count": null,
      "outputs": [
        {
          "output_type": "stream",
          "text": [
            "Best parameters found:\n",
            " {'activation': 'tanh', 'alpha': 0.0001, 'hidden_layer_sizes': (20,), 'learning_rate': 'adaptive', 'solver': 'adam'}\n",
            "Best Score:  0.9205128205128205\n"
          ],
          "name": "stdout"
        },
        {
          "output_type": "stream",
          "text": [
            "/usr/local/lib/python3.6/dist-packages/sklearn/neural_network/_multilayer_perceptron.py:571: ConvergenceWarning: Stochastic Optimizer: Maximum iterations (200) reached and the optimization hasn't converged yet.\n",
            "  % self.max_iter, ConvergenceWarning)\n"
          ],
          "name": "stderr"
        }
      ]
    },
    {
      "cell_type": "code",
      "metadata": {
        "id": "R5hROjME2oFt",
        "colab": {
          "base_uri": "https://localhost:8080/",
          "height": 170
        },
        "outputId": "92604316-1b8a-49c4-e6cf-33b3aeb0e8fb"
      },
      "source": [
        "Y_prob_train = mlp.predict_proba(X_train)[:,1]\n",
        "Y_pred_train = mlp.predict(X_train)\n",
        "Y_prob = mlp.predict_proba(X_test)[:,1]\n",
        "Y_pred = mlp.predict(X_test)\n",
        "print('Accuracy for test: ',accuracy_score(Y_test,Y_pred))\n",
        "print('Confussion matrix - Train: ','\\n',confusion_matrix(Y_train,Y_pred_train))\n",
        "print('Overall accuracy - Train: ',accuracy_score(Y_train,Y_pred_train))\n",
        "print('Confussion matrix - Test: ','\\n',confusion_matrix(Y_test,Y_pred))\n",
        "print('Overall accuracy - Test: ',accuracy_score(Y_test,Y_pred))"
      ],
      "execution_count": null,
      "outputs": [
        {
          "output_type": "stream",
          "text": [
            "Accuracy for test:  0.9307692307692308\n",
            "Confussion matrix - Train:  \n",
            " [[150   5]\n",
            " [ 19 216]]\n",
            "Overall accuracy - Train:  0.9384615384615385\n",
            "Confussion matrix - Test:  \n",
            " [[43  2]\n",
            " [ 7 78]]\n",
            "Overall accuracy - Test:  0.9307692307692308\n"
          ],
          "name": "stdout"
        }
      ]
    },
    {
      "cell_type": "code",
      "metadata": {
        "id": "qJjA24r522Ik",
        "colab": {
          "base_uri": "https://localhost:8080/",
          "height": 170
        },
        "outputId": "63884550-74d4-4cdc-81b2-3b7feef2f268"
      },
      "source": [
        "print(classification_report(Y_test,Y_pred))"
      ],
      "execution_count": null,
      "outputs": [
        {
          "output_type": "stream",
          "text": [
            "              precision    recall  f1-score   support\n",
            "\n",
            "           0       0.86      0.96      0.91        45\n",
            "           1       0.97      0.92      0.95        85\n",
            "\n",
            "    accuracy                           0.93       130\n",
            "   macro avg       0.92      0.94      0.93       130\n",
            "weighted avg       0.94      0.93      0.93       130\n",
            "\n"
          ],
          "name": "stdout"
        }
      ]
    },
    {
      "cell_type": "code",
      "metadata": {
        "id": "XqrNczFSVPRZ",
        "colab": {
          "base_uri": "https://localhost:8080/",
          "height": 312
        },
        "outputId": "78af884d-f2e3-4ec9-e55d-218d9364dfb1"
      },
      "source": [
        "print('Test AUC value: ', roc_auc_score(Y_test, Y_prob)) #for test data\n",
        "\n",
        "fpr, tpr, thresholds = roc_curve(Y_test, Y_prob)\n",
        "\n",
        "plt.plot(fpr, tpr)\n",
        "plt.plot(fpr, fpr, 'g-')\n",
        "plt.xlabel('FPR')\n",
        "plt.ylabel('TPR')\n",
        "plt.title('ROC Curve of Test data')\n",
        "plt.show()"
      ],
      "execution_count": null,
      "outputs": [
        {
          "output_type": "stream",
          "text": [
            "Test AUC value:  0.9675816993464051\n"
          ],
          "name": "stdout"
        },
        {
          "output_type": "display_data",
          "data": {
            "image/png": "[encoded data removed]",
            "text/plain": [
              "<Figure size 432x288 with 1 Axes>"
            ]
          },
          "metadata": {
            "tags": [],
            "needs_background": "light"
          }
        }
      ]
    },
    {
      "cell_type": "markdown",
      "metadata": {
        "id": "EjnFALZD3Fwr"
      },
      "source": [
        "# ***Model(KNeighborsClassifier)***"
      ]
    },
    {
      "cell_type": "code",
      "metadata": {
        "id": "YXPxYSdl3IFW",
        "colab": {
          "base_uri": "https://localhost:8080/",
          "height": 68
        },
        "outputId": "5ac7f456-d0b7-4299-f29c-a75fe2a65b83"
      },
      "source": [
        "from sklearn.neighbors import KNeighborsClassifier\n",
        "knc=KNeighborsClassifier()\n",
        "\n",
        "knc.fit(X_train, Y_train)"
      ],
      "execution_count": null,
      "outputs": [
        {
          "output_type": "execute_result",
          "data": {
            "text/plain": [
              "KNeighborsClassifier(algorithm='auto', leaf_size=30, metric='minkowski',\n",
              "                     metric_params=None, n_jobs=None, n_neighbors=5, p=2,\n",
              "                     weights='uniform')"
            ]
          },
          "metadata": {
            "tags": []
          },
          "execution_count": 73
        }
      ]
    },
    {
      "cell_type": "markdown",
      "metadata": {
        "id": "eIciitDMkW-_"
      },
      "source": [
        "hyperperameter tuning"
      ]
    },
    {
      "cell_type": "code",
      "metadata": {
        "id": "eGs_i-H9keBJ",
        "colab": {
          "base_uri": "https://localhost:8080/",
          "height": 68
        },
        "outputId": "93b63023-026d-42bb-b61d-6bc16320fb8e"
      },
      "source": [
        "params = {'n_neighbors':[5,6,7,8,9,10],\n",
        "          'leaf_size':[1,2,3,5],\n",
        "          'weights':['uniform', 'distance'],\n",
        "          'algorithm':['auto', 'ball_tree','kd_tree','brute'],\n",
        "          'n_jobs':[-1]}\n",
        "model = GridSearchCV(knc, param_grid=params, n_jobs=1)\n",
        "model.fit(X_train, Y_train)\n",
        "print('Best parameters found:\\n', model.best_params_)\n",
        "print('Best Score: ', model.best_score_) "
      ],
      "execution_count": null,
      "outputs": [
        {
          "output_type": "stream",
          "text": [
            "Best parameters found:\n",
            " {'algorithm': 'auto', 'leaf_size': 1, 'n_jobs': -1, 'n_neighbors': 6, 'weights': 'distance'}\n",
            "Best Score:  0.9153846153846154\n"
          ],
          "name": "stdout"
        }
      ]
    },
    {
      "cell_type": "code",
      "metadata": {
        "id": "LeW-SE0k3gzD",
        "colab": {
          "base_uri": "https://localhost:8080/",
          "height": 170
        },
        "outputId": "ed737dfe-eb3f-4882-a7c0-1a09a468f9b2"
      },
      "source": [
        "Y_prob_train = knc.predict_proba(X_train)[:,1]\n",
        "Y_pred_train = knc.predict(X_train)\n",
        "Y_prob = knc.predict_proba(X_test)[:,1]\n",
        "Y_pred = knc.predict(X_test)\n",
        "print('Accuracy for test: ',accuracy_score(Y_test,Y_pred))\n",
        "print('Confussion matrix - Train: ','\\n',confusion_matrix(Y_train,Y_pred_train))\n",
        "print('Overall accuracy - Train: ',accuracy_score(Y_train,Y_pred_train))\n",
        "print('Confussion matrix - Test: ','\\n',confusion_matrix(Y_test,Y_pred))\n",
        "print('Overall accuracy - Test: ',accuracy_score(Y_test,Y_pred))"
      ],
      "execution_count": null,
      "outputs": [
        {
          "output_type": "stream",
          "text": [
            "Accuracy for test:  0.8384615384615385\n",
            "Confussion matrix - Train:  \n",
            " [[151   4]\n",
            " [ 27 208]]\n",
            "Overall accuracy - Train:  0.9205128205128205\n",
            "Confussion matrix - Test:  \n",
            " [[41  4]\n",
            " [17 68]]\n",
            "Overall accuracy - Test:  0.8384615384615385\n"
          ],
          "name": "stdout"
        }
      ]
    },
    {
      "cell_type": "code",
      "metadata": {
        "id": "HPRCEoEh3pK2",
        "colab": {
          "base_uri": "https://localhost:8080/",
          "height": 170
        },
        "outputId": "f48d293b-4565-4d39-854f-803129d0fe1f"
      },
      "source": [
        "print(classification_report(Y_test,Y_pred))"
      ],
      "execution_count": null,
      "outputs": [
        {
          "output_type": "stream",
          "text": [
            "              precision    recall  f1-score   support\n",
            "\n",
            "           0       0.71      0.91      0.80        45\n",
            "           1       0.94      0.80      0.87        85\n",
            "\n",
            "    accuracy                           0.84       130\n",
            "   macro avg       0.83      0.86      0.83       130\n",
            "weighted avg       0.86      0.84      0.84       130\n",
            "\n"
          ],
          "name": "stdout"
        }
      ]
    },
    {
      "cell_type": "code",
      "metadata": {
        "id": "0qvt1EXlVRtt",
        "colab": {
          "base_uri": "https://localhost:8080/",
          "height": 312
        },
        "outputId": "c9415862-4d3c-4e96-cf21-380debcc723a"
      },
      "source": [
        "print('Test AUC value: ', roc_auc_score(Y_test, Y_prob)) #for test data\n",
        "\n",
        "fpr, tpr, thresholds = roc_curve(Y_test, Y_prob)\n",
        "\n",
        "plt.plot(fpr, tpr)\n",
        "plt.plot(fpr, fpr, 'g-')\n",
        "plt.xlabel('FPR')\n",
        "plt.ylabel('TPR')\n",
        "plt.title('ROC Curve of Test data')\n",
        "plt.show()"
      ],
      "execution_count": null,
      "outputs": [
        {
          "output_type": "stream",
          "text": [
            "Test AUC value:  0.942091503267974\n"
          ],
          "name": "stdout"
        },
        {
          "output_type": "display_data",
          "data": {
            "image/png": "[encoded data removed]",
            "text/plain": [
              "<Figure size 432x288 with 1 Axes>"
            ]
          },
          "metadata": {
            "tags": [],
            "needs_background": "light"
          }
        }
      ]
    },
    {
      "cell_type": "markdown",
      "metadata": {
        "id": "Vn4V2ks64cOP"
      },
      "source": [
        "# ***Model(Support Vector Classification(SVM))***"
      ]
    },
    {
      "cell_type": "code",
      "metadata": {
        "id": "yvUeCm3m4mOM",
        "colab": {
          "base_uri": "https://localhost:8080/",
          "height": 85
        },
        "outputId": "24e50061-4fe4-4100-82f5-57719f95a49b"
      },
      "source": [
        "from sklearn.svm import SVC\n",
        "lsvc=SVC(gamma='auto', probability=True)\n",
        "lsvc.fit(X_train, Y_train)\n"
      ],
      "execution_count": null,
      "outputs": [
        {
          "output_type": "execute_result",
          "data": {
            "text/plain": [
              "SVC(C=1.0, break_ties=False, cache_size=200, class_weight=None, coef0=0.0,\n",
              "    decision_function_shape='ovr', degree=3, gamma='auto', kernel='rbf',\n",
              "    max_iter=-1, probability=True, random_state=None, shrinking=True, tol=0.001,\n",
              "    verbose=False)"
            ]
          },
          "metadata": {
            "tags": []
          },
          "execution_count": 78
        }
      ]
    },
    {
      "cell_type": "markdown",
      "metadata": {
        "id": "oeFiKU_kv370"
      },
      "source": [
        "hyperperameter tuning"
      ]
    },
    {
      "cell_type": "code",
      "metadata": {
        "id": "Am2lZYwrv7Kk",
        "colab": {
          "base_uri": "https://localhost:8080/",
          "height": 136
        },
        "outputId": "517df381-3088-4310-c350-bd30c04ae544"
      },
      "source": [
        "params = {'C': [0.1,1, 10, 100],'gamma': [1,0.1,0.01,0.001], \n",
        "          'kernel': ['linear','rbf']}\n",
        "model_svm = GridSearchCV(lsvc, param_grid=params,n_jobs=-1)\n",
        "model_svm.fit(X_train, Y_train)\n",
        "print('Best parameters found:\\n', model_svm.best_params_)\n",
        "print('Best Score: ', model_svm.best_score_) \n",
        "print(model_svm.best_estimator_)\n"
      ],
      "execution_count": null,
      "outputs": [
        {
          "output_type": "stream",
          "text": [
            "Best parameters found:\n",
            " {'C': 100, 'gamma': 0.1, 'kernel': 'rbf'}\n",
            "Best Score:  0.9564102564102566\n",
            "SVC(C=100, break_ties=False, cache_size=200, class_weight=None, coef0=0.0,\n",
            "    decision_function_shape='ovr', degree=3, gamma=0.1, kernel='rbf',\n",
            "    max_iter=-1, probability=True, random_state=None, shrinking=True, tol=0.001,\n",
            "    verbose=False)\n"
          ],
          "name": "stdout"
        }
      ]
    },
    {
      "cell_type": "code",
      "metadata": {
        "id": "cxoNGw3A6vcJ",
        "colab": {
          "base_uri": "https://localhost:8080/",
          "height": 170
        },
        "outputId": "2e878ec9-0c01-4287-b7ca-ef6b1812dc98"
      },
      "source": [
        "Y_prob_train = lsvc.predict_proba(X_train)[:,1]\n",
        "Y_pred_train = lsvc.predict(X_train)\n",
        "Y_prob = lsvc.predict_proba(X_test)[:,1]\n",
        "Y_pred = lsvc.predict(X_test)\n",
        "print('Accuracy for test: ',accuracy_score(Y_test,Y_pred))\n",
        "print('Confussion matrix - Train: ','\\n',confusion_matrix(Y_train,Y_pred_train))\n",
        "print('Overall accuracy - Train: ',accuracy_score(Y_train,Y_pred_train))\n",
        "print('Confussion matrix - Test: ','\\n',confusion_matrix(Y_test,Y_pred))\n",
        "print('Overall accuracy - Test: ',accuracy_score(Y_test,Y_pred))"
      ],
      "execution_count": null,
      "outputs": [
        {
          "output_type": "stream",
          "text": [
            "Accuracy for test:  0.9076923076923077\n",
            "Confussion matrix - Train:  \n",
            " [[153   2]\n",
            " [  8 227]]\n",
            "Overall accuracy - Train:  0.9743589743589743\n",
            "Confussion matrix - Test:  \n",
            " [[39  6]\n",
            " [ 6 79]]\n",
            "Overall accuracy - Test:  0.9076923076923077\n"
          ],
          "name": "stdout"
        }
      ]
    },
    {
      "cell_type": "code",
      "metadata": {
        "id": "4g_aKcKV-DEb",
        "colab": {
          "base_uri": "https://localhost:8080/",
          "height": 170
        },
        "outputId": "fe5c45f4-e068-4337-9436-0111baa97e01"
      },
      "source": [
        "print(classification_report(Y_test,Y_pred))"
      ],
      "execution_count": null,
      "outputs": [
        {
          "output_type": "stream",
          "text": [
            "              precision    recall  f1-score   support\n",
            "\n",
            "           0       0.87      0.87      0.87        45\n",
            "           1       0.93      0.93      0.93        85\n",
            "\n",
            "    accuracy                           0.91       130\n",
            "   macro avg       0.90      0.90      0.90       130\n",
            "weighted avg       0.91      0.91      0.91       130\n",
            "\n"
          ],
          "name": "stdout"
        }
      ]
    },
    {
      "cell_type": "code",
      "metadata": {
        "id": "8MPDi4pyVTc6",
        "colab": {
          "base_uri": "https://localhost:8080/",
          "height": 312
        },
        "outputId": "f9e2dcb8-6780-419e-ce05-69db291a6157"
      },
      "source": [
        "print('Test AUC value: ', roc_auc_score(Y_test, Y_prob)) #for test data\n",
        "\n",
        "fpr, tpr, thresholds = roc_curve(Y_test, Y_prob)\n",
        "\n",
        "plt.plot(fpr, tpr)\n",
        "plt.plot(fpr, fpr, 'g-')\n",
        "plt.xlabel('FPR')\n",
        "plt.ylabel('TPR')\n",
        "plt.title('ROC Curve of Test data')\n",
        "plt.show()"
      ],
      "execution_count": null,
      "outputs": [
        {
          "output_type": "stream",
          "text": [
            "Test AUC value:  0.9816993464052286\n"
          ],
          "name": "stdout"
        },
        {
          "output_type": "display_data",
          "data": {
            "image/png": "[encoded data removed]",
            "text/plain": [
              "<Figure size 432x288 with 1 Axes>"
            ]
          },
          "metadata": {
            "tags": [],
            "needs_background": "light"
          }
        }
      ]
    },
    {
      "cell_type": "markdown",
      "metadata": {
        "id": "U0cXfyc3BH7E"
      },
      "source": [
        "# ***Model(BernoulliNB)***"
      ]
    },
    {
      "cell_type": "code",
      "metadata": {
        "id": "AOkkTZmeBB-0",
        "colab": {
          "base_uri": "https://localhost:8080/",
          "height": 34
        },
        "outputId": "6d5a834c-d030-4ebb-b29b-68e6edaa7ca9"
      },
      "source": [
        "from sklearn.naive_bayes import BernoulliNB\n",
        "nb=BernoulliNB()\n",
        "nb.fit(X_train, Y_train)"
      ],
      "execution_count": null,
      "outputs": [
        {
          "output_type": "execute_result",
          "data": {
            "text/plain": [
              "BernoulliNB(alpha=1.0, binarize=0.0, class_prior=None, fit_prior=True)"
            ]
          },
          "metadata": {
            "tags": []
          },
          "execution_count": 83
        }
      ]
    },
    {
      "cell_type": "markdown",
      "metadata": {
        "id": "Vk0ZFE2jsrib"
      },
      "source": [
        "hyperperameter tuning"
      ]
    },
    {
      "cell_type": "code",
      "metadata": {
        "id": "LHSnkKcAsqAV",
        "colab": {
          "base_uri": "https://localhost:8080/",
          "height": 68
        },
        "outputId": "c15dcd2c-bb0a-430d-c8bd-abb2c616a01a"
      },
      "source": [
        "from scipy.stats import uniform as sp_rand\n",
        "param_grid = {'alpha': sp_rand()}\n",
        "random_search = RandomizedSearchCV(nb, param_distributions=param_grid, n_iter=100)\n",
        "random_search.fit(X_train, Y_train)\n",
        "print('Best parameters found:\\n', random_search.best_params_)\n",
        "print('Best Score: ', random_search.best_score_)"
      ],
      "execution_count": null,
      "outputs": [
        {
          "output_type": "stream",
          "text": [
            "Best parameters found:\n",
            " {'alpha': 0.9290267115026413}\n",
            "Best Score:  0.8846153846153847\n"
          ],
          "name": "stdout"
        }
      ]
    },
    {
      "cell_type": "code",
      "metadata": {
        "id": "uyyUlFoNBd1d",
        "colab": {
          "base_uri": "https://localhost:8080/",
          "height": 170
        },
        "outputId": "0c326a3f-f8c8-4bc5-ba66-7459d9f7c0f7"
      },
      "source": [
        "Y_prob_train = nb.predict_proba(X_train)[:,1]\n",
        "Y_pred_train = nb.predict(X_train)\n",
        "Y_prob = nb.predict_proba(X_test)[:,1]\n",
        "Y_pred = nb.predict(X_test)\n",
        "print('Accuracy for test: ',accuracy_score(Y_test,Y_pred))\n",
        "print('Confussion matrix - Train: ','\\n',confusion_matrix(Y_train,Y_pred_train))\n",
        "print('Overall accuracy - Train: ',accuracy_score(Y_train,Y_pred_train))\n",
        "print('Confussion matrix - Test: ','\\n',confusion_matrix(Y_test,Y_pred))\n",
        "print('Overall accuracy - Test: ',accuracy_score(Y_test,Y_pred))"
      ],
      "execution_count": null,
      "outputs": [
        {
          "output_type": "stream",
          "text": [
            "Accuracy for test:  0.8461538461538461\n",
            "Confussion matrix - Train:  \n",
            " [[142  13]\n",
            " [ 32 203]]\n",
            "Overall accuracy - Train:  0.8846153846153846\n",
            "Confussion matrix - Test:  \n",
            " [[39  6]\n",
            " [14 71]]\n",
            "Overall accuracy - Test:  0.8461538461538461\n"
          ],
          "name": "stdout"
        }
      ]
    },
    {
      "cell_type": "code",
      "metadata": {
        "id": "UzibHpkaBoEe",
        "colab": {
          "base_uri": "https://localhost:8080/",
          "height": 170
        },
        "outputId": "0d2d2650-8746-4ec6-88c1-5a424c142a1b"
      },
      "source": [
        "print(classification_report(Y_test,Y_pred))"
      ],
      "execution_count": null,
      "outputs": [
        {
          "output_type": "stream",
          "text": [
            "              precision    recall  f1-score   support\n",
            "\n",
            "           0       0.74      0.87      0.80        45\n",
            "           1       0.92      0.84      0.88        85\n",
            "\n",
            "    accuracy                           0.85       130\n",
            "   macro avg       0.83      0.85      0.84       130\n",
            "weighted avg       0.86      0.85      0.85       130\n",
            "\n"
          ],
          "name": "stdout"
        }
      ]
    },
    {
      "cell_type": "code",
      "metadata": {
        "id": "min_yobzVVXp",
        "colab": {
          "base_uri": "https://localhost:8080/",
          "height": 312
        },
        "outputId": "7dc48909-c12f-466f-cd10-41434dc7d570"
      },
      "source": [
        "print('Test AUC value: ', roc_auc_score(Y_test, Y_prob)) #for test data\n",
        "\n",
        "fpr, tpr, thresholds = roc_curve(Y_test, Y_prob)\n",
        "\n",
        "plt.plot(fpr, tpr)\n",
        "plt.plot(fpr, fpr, 'g-')\n",
        "plt.xlabel('FPR')\n",
        "plt.ylabel('TPR')\n",
        "plt.title('ROC Curve of Test data')\n",
        "plt.show()"
      ],
      "execution_count": null,
      "outputs": [
        {
          "output_type": "stream",
          "text": [
            "Test AUC value:  0.9430065359477123\n"
          ],
          "name": "stdout"
        },
        {
          "output_type": "display_data",
          "data": {
            "image/png": "[encoded data removed]",
            "text/plain": [
              "<Figure size 432x288 with 1 Axes>"
            ]
          },
          "metadata": {
            "tags": [],
            "needs_background": "light"
          }
        }
      ]
    },
    {
      "cell_type": "markdown",
      "metadata": {
        "id": "sCZP6Y9xBwnk"
      },
      "source": [
        "# ***Model(GaussianNB)***"
      ]
    },
    {
      "cell_type": "code",
      "metadata": {
        "id": "etXpm4yKDG4-",
        "colab": {
          "base_uri": "https://localhost:8080/",
          "height": 34
        },
        "outputId": "2c8aa7c6-3915-4fab-9d8d-cf2e2d91dd81"
      },
      "source": [
        "from sklearn.naive_bayes import GaussianNB\n",
        "gnb=GaussianNB()\n",
        "gnb.fit(X_train, Y_train)"
      ],
      "execution_count": null,
      "outputs": [
        {
          "output_type": "execute_result",
          "data": {
            "text/plain": [
              "GaussianNB(priors=None, var_smoothing=1e-09)"
            ]
          },
          "metadata": {
            "tags": []
          },
          "execution_count": 88
        }
      ]
    },
    {
      "cell_type": "markdown",
      "metadata": {
        "id": "LyA-H0r5u3ko"
      },
      "source": [
        "hyperperameter tuning"
      ]
    },
    {
      "cell_type": "code",
      "metadata": {
        "id": "qgcLPcSmu6zs"
      },
      "source": [
        ""
      ],
      "execution_count": null,
      "outputs": []
    },
    {
      "cell_type": "code",
      "metadata": {
        "id": "3Xb56oauDSsg",
        "colab": {
          "base_uri": "https://localhost:8080/",
          "height": 170
        },
        "outputId": "9f4fd7eb-11ea-493c-c887-1c974040f325"
      },
      "source": [
        "Y_prob_train = gnb.predict_proba(X_train)[:,1]\n",
        "Y_pred_train = gnb.predict(X_train)\n",
        "Y_prob = gnb.predict_proba(X_test)[:,1]\n",
        "Y_pred = gnb.predict(X_test)\n",
        "print('Accuracy for test: ',accuracy_score(Y_test,Y_pred))\n",
        "print('Confussion matrix - Train: ','\\n',confusion_matrix(Y_train,Y_pred_train))\n",
        "print('Overall accuracy - Train: ',accuracy_score(Y_train,Y_pred_train))\n",
        "print('Confussion matrix - Test: ','\\n',confusion_matrix(Y_test,Y_pred))\n",
        "print('Overall accuracy - Test: ',accuracy_score(Y_test,Y_pred))"
      ],
      "execution_count": null,
      "outputs": [
        {
          "output_type": "stream",
          "text": [
            "Accuracy for test:  0.9076923076923077\n",
            "Confussion matrix - Train:  \n",
            " [[138  17]\n",
            " [ 24 211]]\n",
            "Overall accuracy - Train:  0.8948717948717949\n",
            "Confussion matrix - Test:  \n",
            " [[39  6]\n",
            " [ 6 79]]\n",
            "Overall accuracy - Test:  0.9076923076923077\n"
          ],
          "name": "stdout"
        }
      ]
    },
    {
      "cell_type": "code",
      "metadata": {
        "id": "KjYA6_cFDja4",
        "colab": {
          "base_uri": "https://localhost:8080/",
          "height": 170
        },
        "outputId": "92a45a5c-a010-47f1-af61-0791d6fa7157"
      },
      "source": [
        "print(classification_report(Y_test,Y_pred))"
      ],
      "execution_count": null,
      "outputs": [
        {
          "output_type": "stream",
          "text": [
            "              precision    recall  f1-score   support\n",
            "\n",
            "           0       0.87      0.87      0.87        45\n",
            "           1       0.93      0.93      0.93        85\n",
            "\n",
            "    accuracy                           0.91       130\n",
            "   macro avg       0.90      0.90      0.90       130\n",
            "weighted avg       0.91      0.91      0.91       130\n",
            "\n"
          ],
          "name": "stdout"
        }
      ]
    },
    {
      "cell_type": "code",
      "metadata": {
        "id": "dN1iei7sVX2R",
        "colab": {
          "base_uri": "https://localhost:8080/",
          "height": 312
        },
        "outputId": "099d9b21-b8c2-40e9-8ccd-bac5bf72c2ba"
      },
      "source": [
        "print('Test AUC value: ', roc_auc_score(Y_test, Y_prob)) #for test data\n",
        "\n",
        "fpr, tpr, thresholds = roc_curve(Y_test, Y_prob)\n",
        "\n",
        "plt.plot(fpr, tpr)\n",
        "plt.plot(fpr, fpr, 'g-')\n",
        "plt.xlabel('FPR')\n",
        "plt.ylabel('TPR')\n",
        "plt.title('ROC Curve of Test data')\n",
        "plt.show()"
      ],
      "execution_count": null,
      "outputs": [
        {
          "output_type": "stream",
          "text": [
            "Test AUC value:  0.943529411764706\n"
          ],
          "name": "stdout"
        },
        {
          "output_type": "display_data",
          "data": {
            "image/png": "[encoded data removed]",
            "text/plain": [
              "<Figure size 432x288 with 1 Axes>"
            ]
          },
          "metadata": {
            "tags": [],
            "needs_background": "light"
          }
        }
      ]
    },
    {
      "cell_type": "markdown",
      "metadata": {
        "id": "9BmZDYGsEC5O"
      },
      "source": [
        "# ***Model(QuadraticDiscriminantAnalysis)***"
      ]
    },
    {
      "cell_type": "code",
      "metadata": {
        "id": "zqtn0NvSEBuJ",
        "colab": {
          "base_uri": "https://localhost:8080/",
          "height": 51
        },
        "outputId": "f44c2fca-6f77-41d0-acc2-c17deab01528"
      },
      "source": [
        "from sklearn.discriminant_analysis import QuadraticDiscriminantAnalysis\n",
        "qda=QuadraticDiscriminantAnalysis()\n",
        "qda.fit(X_train, Y_train)"
      ],
      "execution_count": null,
      "outputs": [
        {
          "output_type": "execute_result",
          "data": {
            "text/plain": [
              "QuadraticDiscriminantAnalysis(priors=None, reg_param=0.0,\n",
              "                              store_covariance=False, tol=0.0001)"
            ]
          },
          "metadata": {
            "tags": []
          },
          "execution_count": 92
        }
      ]
    },
    {
      "cell_type": "markdown",
      "metadata": {
        "id": "Ljsosx9f0b10"
      },
      "source": [
        "hyperperameter tuning"
      ]
    },
    {
      "cell_type": "code",
      "metadata": {
        "id": "XypOX64E0hOV",
        "colab": {
          "base_uri": "https://localhost:8080/",
          "height": 122
        },
        "outputId": "cc56a08b-8297-4227-b131-c2907c4050d9"
      },
      "source": [
        "param_grid = {'reg_param': [0.1, 0.2, 0.3, 0.4, 0.5]}\n",
        "random_search = RandomizedSearchCV(qda, param_distributions=param_grid, n_iter=100)\n",
        "random_search.fit(X_train, Y_train)\n",
        "print('Best parameters found:\\n', random_search.best_params_)\n",
        "print('Best Score: ', random_search.best_score_)"
      ],
      "execution_count": null,
      "outputs": [
        {
          "output_type": "stream",
          "text": [
            "Best parameters found:\n",
            " {'reg_param': 0.1}\n",
            "Best Score:  0.9435897435897436\n"
          ],
          "name": "stdout"
        },
        {
          "output_type": "stream",
          "text": [
            "/usr/local/lib/python3.6/dist-packages/sklearn/model_selection/_search.py:281: UserWarning: The total space of parameters 5 is smaller than n_iter=100. Running 5 iterations. For exhaustive searches, use GridSearchCV.\n",
            "  % (grid_size, self.n_iter, grid_size), UserWarning)\n"
          ],
          "name": "stderr"
        }
      ]
    },
    {
      "cell_type": "code",
      "metadata": {
        "id": "-Kc2TPexES0G",
        "colab": {
          "base_uri": "https://localhost:8080/",
          "height": 170
        },
        "outputId": "da77108f-d9ed-4f0d-b938-4ebc4b3aabcd"
      },
      "source": [
        "Y_prob_train = qda.predict_proba(X_train)[:,1]\n",
        "Y_pred_train = qda.predict(X_train)\n",
        "Y_prob = qda.predict_proba(X_test)[:,1]\n",
        "Y_pred = qda.predict(X_test)\n",
        "print('Accuracy for test: ',accuracy_score(Y_test,Y_pred))\n",
        "print('Confussion matrix - Train: ','\\n',confusion_matrix(Y_train,Y_pred_train))\n",
        "print('Overall accuracy - Train: ',accuracy_score(Y_train,Y_pred_train))\n",
        "print('Confussion matrix - Test: ','\\n',confusion_matrix(Y_test,Y_pred))\n",
        "print('Overall accuracy - Test: ',accuracy_score(Y_test,Y_pred))"
      ],
      "execution_count": null,
      "outputs": [
        {
          "output_type": "stream",
          "text": [
            "Accuracy for test:  0.9538461538461539\n",
            "Confussion matrix - Train:  \n",
            " [[148   7]\n",
            " [  4 231]]\n",
            "Overall accuracy - Train:  0.9717948717948718\n",
            "Confussion matrix - Test:  \n",
            " [[41  4]\n",
            " [ 2 83]]\n",
            "Overall accuracy - Test:  0.9538461538461539\n"
          ],
          "name": "stdout"
        }
      ]
    },
    {
      "cell_type": "code",
      "metadata": {
        "id": "GPclJV6KEcWN",
        "colab": {
          "base_uri": "https://localhost:8080/",
          "height": 170
        },
        "outputId": "3695bcd9-171b-4d7c-fff5-f05e65dba440"
      },
      "source": [
        "print(classification_report(Y_test,Y_pred))"
      ],
      "execution_count": null,
      "outputs": [
        {
          "output_type": "stream",
          "text": [
            "              precision    recall  f1-score   support\n",
            "\n",
            "           0       0.95      0.91      0.93        45\n",
            "           1       0.95      0.98      0.97        85\n",
            "\n",
            "    accuracy                           0.95       130\n",
            "   macro avg       0.95      0.94      0.95       130\n",
            "weighted avg       0.95      0.95      0.95       130\n",
            "\n"
          ],
          "name": "stdout"
        }
      ]
    },
    {
      "cell_type": "code",
      "metadata": {
        "id": "rlhkrgq6Vawb",
        "colab": {
          "base_uri": "https://localhost:8080/",
          "height": 312
        },
        "outputId": "eb60d197-2e17-459c-ac2e-ace9a1bdc676"
      },
      "source": [
        "print('Test AUC value: ', roc_auc_score(Y_test, Y_prob)) #for test data\n",
        "\n",
        "fpr, tpr, thresholds = roc_curve(Y_test, Y_prob)\n",
        "\n",
        "plt.plot(fpr, tpr)\n",
        "plt.plot(fpr, fpr, 'g-')\n",
        "plt.xlabel('FPR')\n",
        "plt.ylabel('TPR')\n",
        "plt.title('ROC Curve of Test data')\n",
        "plt.show()"
      ],
      "execution_count": null,
      "outputs": [
        {
          "output_type": "stream",
          "text": [
            "Test AUC value:  0.9806535947712418\n"
          ],
          "name": "stdout"
        },
        {
          "output_type": "display_data",
          "data": {
            "image/png": "[encoded data removed]",
            "text/plain": [
              "<Figure size 432x288 with 1 Axes>"
            ]
          },
          "metadata": {
            "tags": [],
            "needs_background": "light"
          }
        }
      ]
    },
    {
      "cell_type": "markdown",
      "metadata": {
        "id": "4sbcESNvEqL-"
      },
      "source": [
        "# ***Model(BaggingClassifier)***"
      ]
    },
    {
      "cell_type": "code",
      "metadata": {
        "id": "dIORXhCFEpHg",
        "colab": {
          "base_uri": "https://localhost:8080/",
          "height": 85
        },
        "outputId": "e8507c65-29c0-4013-857d-5a318991bb8e"
      },
      "source": [
        "from sklearn.ensemble import BaggingClassifier\n",
        "bc=BaggingClassifier()\n",
        "bc.fit(X_train, Y_train)"
      ],
      "execution_count": null,
      "outputs": [
        {
          "output_type": "execute_result",
          "data": {
            "text/plain": [
              "BaggingClassifier(base_estimator=None, bootstrap=True, bootstrap_features=False,\n",
              "                  max_features=1.0, max_samples=1.0, n_estimators=10,\n",
              "                  n_jobs=None, oob_score=False, random_state=None, verbose=0,\n",
              "                  warm_start=False)"
            ]
          },
          "metadata": {
            "tags": []
          },
          "execution_count": 97
        }
      ]
    },
    {
      "cell_type": "markdown",
      "metadata": {
        "id": "8P4LUIJJ0ewC"
      },
      "source": [
        "hyperperameter tuning"
      ]
    },
    {
      "cell_type": "code",
      "metadata": {
        "id": "JE6_T60d2Khr",
        "colab": {
          "base_uri": "https://localhost:8080/",
          "height": 119
        },
        "outputId": "960cac53-21c3-461c-a2ea-8f401e526c4c"
      },
      "source": [
        "param_dist = {\n",
        "    \"n_estimators\" : [10,100,1000],\n",
        "    \"max_samples\" : [5, 10, 25, 50, 100],\n",
        "    \"max_features\" : [1, 2, 5, 10, 13]\n",
        "    \n",
        "}\n",
        "              \n",
        "random_search = RandomizedSearchCV(bc, param_distributions=param_dist,\n",
        "                                   cv = 3, verbose = 1, n_jobs = -1)\n",
        "random_search.fit(X_train, Y_train)\n",
        "print('Best parameters found:\\n', random_search.best_params_)\n",
        "print('Best Score: ', random_search.best_score_) "
      ],
      "execution_count": null,
      "outputs": [
        {
          "output_type": "stream",
          "text": [
            "Fitting 3 folds for each of 10 candidates, totalling 30 fits\n"
          ],
          "name": "stdout"
        },
        {
          "output_type": "stream",
          "text": [
            "[Parallel(n_jobs=-1)]: Using backend LokyBackend with 2 concurrent workers.\n",
            "[Parallel(n_jobs=-1)]: Done  30 out of  30 | elapsed:   14.9s finished\n"
          ],
          "name": "stderr"
        },
        {
          "output_type": "stream",
          "text": [
            "Best parameters found:\n",
            " {'n_estimators': 1000, 'max_samples': 100, 'max_features': 10}\n",
            "Best Score:  0.9461538461538462\n"
          ],
          "name": "stdout"
        }
      ]
    },
    {
      "cell_type": "code",
      "metadata": {
        "id": "sLD7pDYhE4FR",
        "colab": {
          "base_uri": "https://localhost:8080/",
          "height": 170
        },
        "outputId": "281af833-5e3f-408e-c4fb-bdd9df82a7dc"
      },
      "source": [
        "Y_prob_train = bc.predict_proba(X_train)[:,1]\n",
        "Y_pred_train = bc.predict(X_train)\n",
        "Y_prob = bc.predict_proba(X_test)[:,1]\n",
        "Y_pred = bc.predict(X_test)\n",
        "print('Accuracy for test: ',accuracy_score(Y_test,Y_pred))\n",
        "print('Confussion matrix - Train: ','\\n',confusion_matrix(Y_train,Y_pred_train))\n",
        "print('Overall accuracy - Train: ',accuracy_score(Y_train,Y_pred_train))\n",
        "print('Confussion matrix - Test: ','\\n',confusion_matrix(Y_test,Y_pred))\n",
        "print('Overall accuracy - Test: ',accuracy_score(Y_test,Y_pred))"
      ],
      "execution_count": null,
      "outputs": [
        {
          "output_type": "stream",
          "text": [
            "Accuracy for test:  0.9846153846153847\n",
            "Confussion matrix - Train:  \n",
            " [[154   1]\n",
            " [  0 235]]\n",
            "Overall accuracy - Train:  0.9974358974358974\n",
            "Confussion matrix - Test:  \n",
            " [[43  2]\n",
            " [ 0 85]]\n",
            "Overall accuracy - Test:  0.9846153846153847\n"
          ],
          "name": "stdout"
        }
      ]
    },
    {
      "cell_type": "code",
      "metadata": {
        "id": "Zah99lrSyrnd",
        "colab": {
          "base_uri": "https://localhost:8080/",
          "height": 170
        },
        "outputId": "385af046-6cf2-4ad9-c698-d5f8638dec47"
      },
      "source": [
        "print(classification_report(Y_test,Y_pred))"
      ],
      "execution_count": null,
      "outputs": [
        {
          "output_type": "stream",
          "text": [
            "              precision    recall  f1-score   support\n",
            "\n",
            "           0       1.00      0.96      0.98        45\n",
            "           1       0.98      1.00      0.99        85\n",
            "\n",
            "    accuracy                           0.98       130\n",
            "   macro avg       0.99      0.98      0.98       130\n",
            "weighted avg       0.98      0.98      0.98       130\n",
            "\n"
          ],
          "name": "stdout"
        }
      ]
    },
    {
      "cell_type": "code",
      "metadata": {
        "id": "V05bFXsnVcqE",
        "colab": {
          "base_uri": "https://localhost:8080/",
          "height": 312
        },
        "outputId": "c9098821-de1b-49d1-baeb-cfa01751c45f"
      },
      "source": [
        "print('Test AUC value: ', roc_auc_score(Y_test, Y_prob)) #for test data\n",
        "\n",
        "fpr, tpr, thresholds = roc_curve(Y_test, Y_prob)\n",
        "\n",
        "plt.plot(fpr, tpr)\n",
        "plt.plot(fpr, fpr, 'g-')\n",
        "plt.xlabel('FPR')\n",
        "plt.ylabel('TPR')\n",
        "plt.title('ROC Curve of Test data')\n",
        "plt.show()"
      ],
      "execution_count": null,
      "outputs": [
        {
          "output_type": "stream",
          "text": [
            "Test AUC value:  0.9972549019607844\n"
          ],
          "name": "stdout"
        },
        {
          "output_type": "display_data",
          "data": {
            "image/png": "[encoded data removed]",
            "text/plain": [
              "<Figure size 432x288 with 1 Axes>"
            ]
          },
          "metadata": {
            "tags": [],
            "needs_background": "light"
          }
        }
      ]
    },
    {
      "cell_type": "markdown",
      "metadata": {
        "id": "JA0zYMLzlbvm"
      },
      "source": [
        "# ***Model(SGDClassifier)***"
      ]
    },
    {
      "cell_type": "code",
      "metadata": {
        "id": "Kv_ncJw8ldBb"
      },
      "source": [
        "from sklearn.linear_model import SGDClassifier\n",
        "from sklearn.calibration import CalibratedClassifierCV\n",
        "#sdg = SGDClassifier(loss = 'hinge')\n",
        "#sdg.fit(X_train, Y_train)\n",
        "lr = SGDClassifier()\n",
        "clf =lr.fit(X_train, Y_train)\n",
        "calibrator = CalibratedClassifierCV(clf, cv='prefit')\n",
        "model=calibrator.fit(X_train, Y_train)"
      ],
      "execution_count": null,
      "outputs": []
    },
    {
      "cell_type": "markdown",
      "metadata": {
        "id": "ghvfzttSb_Rx"
      },
      "source": [
        "hyperperameter tuning"
      ]
    },
    {
      "cell_type": "code",
      "metadata": {
        "id": "Dbho8LRsbuks",
        "colab": {
          "base_uri": "https://localhost:8080/",
          "height": 173
        },
        "outputId": "1097099a-f034-43f8-d08f-3f697f0cf33e"
      },
      "source": [
        "loss = ['hinge', 'log', 'modified_huber', 'squared_hinge',  'perceptron'] \n",
        "penalty = ['l1', 'l2', 'elasticnet'] \n",
        "alpha = [0.0001, 0.001, 0.01, 0.1, 1, 10, 100, 1000] \n",
        "learning_rate = ['constant', 'optimal', 'invscaling', 'adaptive'] \n",
        "class_weight = [{1:0.5, 0:0.5}, {1:0.4, 0:0.6}, {1:0.6, 0:0.4}, {1:0.7, 0:0.3}] \n",
        "eta0 = [1, 10, 100] \n",
        "param_distributions = dict(loss=loss, \n",
        "penalty=penalty, \n",
        "alpha=alpha, \n",
        "learning_rate=learning_rate, \n",
        "class_weight=class_weight, \n",
        "eta0=eta0) \n",
        "sgd = SGDClassifier(loss=\"hinge\", penalty=\"l2\", max_iter=5) \n",
        "random = RandomizedSearchCV(estimator=sgd, \n",
        "param_distributions=param_distributions, \n",
        "scoring='roc_auc', \n",
        "verbose=1, n_jobs=-1, \n",
        "n_iter=1000) \n",
        "random_result = random.fit(X_train, Y_train) \n",
        "print('Best Score: ', random_result.best_score_) \n",
        "print('Best Params: ', random_result.best_params_) "
      ],
      "execution_count": null,
      "outputs": [
        {
          "output_type": "stream",
          "text": [
            "Fitting 5 folds for each of 1000 candidates, totalling 5000 fits\n"
          ],
          "name": "stdout"
        },
        {
          "output_type": "stream",
          "text": [
            "[Parallel(n_jobs=-1)]: Using backend LokyBackend with 2 concurrent workers.\n",
            "[Parallel(n_jobs=-1)]: Done 956 tasks      | elapsed:    3.9s\n"
          ],
          "name": "stderr"
        },
        {
          "output_type": "stream",
          "text": [
            "Best Score:  0.9636925188743994\n",
            "Best Params:  {'penalty': 'l1', 'loss': 'modified_huber', 'learning_rate': 'optimal', 'eta0': 1, 'class_weight': {1: 0.5, 0: 0.5}, 'alpha': 0.01}\n"
          ],
          "name": "stdout"
        },
        {
          "output_type": "stream",
          "text": [
            "[Parallel(n_jobs=-1)]: Done 5000 out of 5000 | elapsed:   19.2s finished\n",
            "/usr/local/lib/python3.6/dist-packages/sklearn/linear_model/_stochastic_gradient.py:557: ConvergenceWarning: Maximum number of iteration reached before convergence. Consider increasing max_iter to improve the fit.\n",
            "  ConvergenceWarning)\n"
          ],
          "name": "stderr"
        }
      ]
    },
    {
      "cell_type": "code",
      "metadata": {
        "id": "gEoke5DKmRU1",
        "colab": {
          "base_uri": "https://localhost:8080/",
          "height": 170
        },
        "outputId": "196946e0-96ae-44cc-c06b-3d8ff550cffd"
      },
      "source": [
        "Y_prob_train = model.predict_proba(X_train)[:,1]\n",
        "Y_pred_train = model.predict(X_train)\n",
        "Y_prob = model.predict_proba(X_test)[:,1]\n",
        "Y_pred = model.predict(X_test)\n",
        "print('Accuracy for test: ',accuracy_score(Y_test,Y_pred))\n",
        "print('Confussion matrix - Train: ','\\n',confusion_matrix(Y_train,Y_pred_train))\n",
        "print('Overall accuracy - Train: ',accuracy_score(Y_train,Y_pred_train))\n",
        "print('Confussion matrix - Test: ','\\n',confusion_matrix(Y_test,Y_pred))\n",
        "print('Overall accuracy - Test: ',accuracy_score(Y_test,Y_pred))"
      ],
      "execution_count": null,
      "outputs": [
        {
          "output_type": "stream",
          "text": [
            "Accuracy for test:  0.8923076923076924\n",
            "Confussion matrix - Train:  \n",
            " [[139  16]\n",
            " [ 26 209]]\n",
            "Overall accuracy - Train:  0.8923076923076924\n",
            "Confussion matrix - Test:  \n",
            " [[40  5]\n",
            " [ 9 76]]\n",
            "Overall accuracy - Test:  0.8923076923076924\n"
          ],
          "name": "stdout"
        }
      ]
    },
    {
      "cell_type": "code",
      "metadata": {
        "id": "9j5-VpO8bgAQ",
        "colab": {
          "base_uri": "https://localhost:8080/",
          "height": 170
        },
        "outputId": "fa9fe805-44b2-42b6-c7df-2c41656818d0"
      },
      "source": [
        "print(classification_report(Y_test,Y_pred))"
      ],
      "execution_count": null,
      "outputs": [
        {
          "output_type": "stream",
          "text": [
            "              precision    recall  f1-score   support\n",
            "\n",
            "           0       0.82      0.89      0.85        45\n",
            "           1       0.94      0.89      0.92        85\n",
            "\n",
            "    accuracy                           0.89       130\n",
            "   macro avg       0.88      0.89      0.88       130\n",
            "weighted avg       0.90      0.89      0.89       130\n",
            "\n"
          ],
          "name": "stdout"
        }
      ]
    },
    {
      "cell_type": "code",
      "metadata": {
        "id": "7n_sgidwbik0",
        "colab": {
          "base_uri": "https://localhost:8080/",
          "height": 312
        },
        "outputId": "8faebb62-c334-4f02-ff41-53719751b6e1"
      },
      "source": [
        "print('Test AUC value: ', roc_auc_score(Y_test, Y_prob)) #for test data\n",
        "\n",
        "fpr, tpr, thresholds = roc_curve(Y_test, Y_prob)\n",
        "\n",
        "plt.plot(fpr, tpr)\n",
        "plt.plot(fpr, fpr, 'g-')\n",
        "plt.xlabel('FPR')\n",
        "plt.ylabel('TPR')\n",
        "plt.title('ROC Curve of Test data')\n",
        "plt.show()"
      ],
      "execution_count": null,
      "outputs": [
        {
          "output_type": "stream",
          "text": [
            "Test AUC value:  0.9579084967320262\n"
          ],
          "name": "stdout"
        },
        {
          "output_type": "display_data",
          "data": {
            "image/png": "[encoded data removed]",
            "text/plain": [
              "<Figure size 432x288 with 1 Axes>"
            ]
          },
          "metadata": {
            "tags": [],
            "needs_background": "light"
          }
        }
      ]
    },
    {
      "cell_type": "code",
      "metadata": {
        "id": "2zG3FhvTbbU-"
      },
      "source": [
        ""
      ],
      "execution_count": null,
      "outputs": []
    },
    {
      "cell_type": "markdown",
      "metadata": {
        "id": "xqIMa29lJmLO"
      },
      "source": [
        "# ***thresholds***"
      ]
    },
    {
      "cell_type": "code",
      "metadata": {
        "id": "wmi1_rPJb67_",
        "colab": {
          "base_uri": "https://localhost:8080/",
          "height": 312
        },
        "outputId": "c923e8b6-8c59-4b69-a9d2-791a47e57786"
      },
      "source": [
        "thresholds[thresholds>1]=1\n",
        "print('Test AUC value: ', roc_auc_score(Y_test, Y_prob)) #for train data\n",
        "\n",
        "fig, ax = plt.subplots()\n",
        "\n",
        "ax.plot(fpr, tpr) \n",
        "ax.plot(fpr, fpr, 'g-') \n",
        "plt.xlabel('FPR')\n",
        "plt.ylabel('TPR')\n",
        "ax1 = ax.twinx()\n",
        "ax1.plot(fpr,thresholds) \n",
        "ax1.set_ylabel('Threshold')\n",
        "\n",
        "plt.title('ROC Curve of Test data')\n",
        "plt.show()"
      ],
      "execution_count": null,
      "outputs": [
        {
          "output_type": "stream",
          "text": [
            "Test AUC value:  0.9579084967320262\n"
          ],
          "name": "stdout"
        },
        {
          "output_type": "display_data",
          "data": {
            "image/png": "[encoded data removed]",
            "text/plain": [
              "<Figure size 432x288 with 2 Axes>"
            ]
          },
          "metadata": {
            "tags": [],
            "needs_background": "light"
          }
        }
      ]
    }
  ]
}